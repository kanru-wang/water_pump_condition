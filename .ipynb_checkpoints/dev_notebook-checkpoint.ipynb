{
 "cells": [
  {
   "cell_type": "code",
   "execution_count": 1,
   "metadata": {
    "collapsed": true
   },
   "outputs": [],
   "source": [
    "import pandas as pd\n",
    "import numpy as np\n",
    "#import copy\n",
    "\n",
    "import specifics\n",
    "import data\n",
    "\n",
    "#import xgboost\n",
    "from sklearn import metrics\n",
    "from sklearn.model_selection import train_test_split\n",
    "from sklearn.model_selection import RandomizedSearchCV\n",
    "#from sklearn.metrics import accuracy_score\n",
    "\n",
    "from xgboost.sklearn import XGBClassifier\n",
    "#from sklearn.pipeline import Pipeline\n",
    "#from sklearn.preprocessing import StandardScaler\n",
    "import scipy.stats as st # For parameter generation"
   ]
  },
  {
   "cell_type": "code",
   "execution_count": 2,
   "metadata": {
    "collapsed": true
   },
   "outputs": [],
   "source": [
    "%load_ext autoreload\n",
    "%autoreload 2"
   ]
  },
  {
   "cell_type": "code",
   "execution_count": 3,
   "metadata": {
    "collapsed": true
   },
   "outputs": [],
   "source": [
    "train_feature_dataset = pd.DataFrame.from_csv('dataset/traindata.csv')\n",
    "train_outcome_dataset = pd.DataFrame.from_csv('dataset/status_group.csv')\n",
    "test_feature_dataset = pd.DataFrame.from_csv('dataset/testdata.csv')"
   ]
  },
  {
   "cell_type": "code",
   "execution_count": 4,
   "metadata": {},
   "outputs": [
    {
     "data": {
      "text/plain": [
       "(59400, 39)"
      ]
     },
     "execution_count": 4,
     "metadata": {},
     "output_type": "execute_result"
    }
   ],
   "source": [
    "train_feature_dataset.shape"
   ]
  },
  {
   "cell_type": "code",
   "execution_count": 5,
   "metadata": {},
   "outputs": [
    {
     "name": "stdout",
     "output_type": "stream",
     "text": [
      "<class 'pandas.core.frame.DataFrame'>\n",
      "Int64Index: 59400 entries, 69572 to 26348\n",
      "Data columns (total 39 columns):\n",
      "amount_tsh               59400 non-null float64\n",
      "date_recorded            59400 non-null object\n",
      "funder                   55765 non-null object\n",
      "gps_height               59400 non-null int64\n",
      "installer                55745 non-null object\n",
      "longitude                59400 non-null float64\n",
      "latitude                 59400 non-null float64\n",
      "wpt_name                 59400 non-null object\n",
      "num_private              59400 non-null int64\n",
      "basin                    59400 non-null object\n",
      "subvillage               59029 non-null object\n",
      "region                   59400 non-null object\n",
      "region_code              59400 non-null int64\n",
      "district_code            59400 non-null int64\n",
      "lga                      59400 non-null object\n",
      "ward                     59400 non-null object\n",
      "population               59400 non-null int64\n",
      "public_meeting           56066 non-null object\n",
      "recorded_by              59400 non-null object\n",
      "scheme_management        55523 non-null object\n",
      "scheme_name              31234 non-null object\n",
      "permit                   56344 non-null object\n",
      "construction_year        59400 non-null int64\n",
      "extraction_type          59400 non-null object\n",
      "extraction_type_group    59400 non-null object\n",
      "extraction_type_class    59400 non-null object\n",
      "management               59400 non-null object\n",
      "management_group         59400 non-null object\n",
      "payment                  59400 non-null object\n",
      "payment_type             59400 non-null object\n",
      "water_quality            59400 non-null object\n",
      "quality_group            59400 non-null object\n",
      "quantity                 59400 non-null object\n",
      "quantity_group           59400 non-null object\n",
      "source                   59400 non-null object\n",
      "source_type              59400 non-null object\n",
      "source_class             59400 non-null object\n",
      "waterpoint_type          59400 non-null object\n",
      "waterpoint_type_group    59400 non-null object\n",
      "dtypes: float64(3), int64(6), object(30)\n",
      "memory usage: 18.1+ MB\n"
     ]
    }
   ],
   "source": [
    "train_feature_dataset.info()"
   ]
  },
  {
   "cell_type": "code",
   "execution_count": 6,
   "metadata": {
    "scrolled": false
   },
   "outputs": [
    {
     "data": {
      "text/html": [
       "<div>\n",
       "<style>\n",
       "    .dataframe thead tr:only-child th {\n",
       "        text-align: right;\n",
       "    }\n",
       "\n",
       "    .dataframe thead th {\n",
       "        text-align: left;\n",
       "    }\n",
       "\n",
       "    .dataframe tbody tr th {\n",
       "        vertical-align: top;\n",
       "    }\n",
       "</style>\n",
       "<table border=\"1\" class=\"dataframe\">\n",
       "  <thead>\n",
       "    <tr style=\"text-align: right;\">\n",
       "      <th></th>\n",
       "      <th>amount_tsh</th>\n",
       "      <th>date_recorded</th>\n",
       "      <th>funder</th>\n",
       "      <th>gps_height</th>\n",
       "      <th>installer</th>\n",
       "      <th>longitude</th>\n",
       "      <th>latitude</th>\n",
       "      <th>wpt_name</th>\n",
       "      <th>num_private</th>\n",
       "      <th>basin</th>\n",
       "      <th>subvillage</th>\n",
       "      <th>region</th>\n",
       "      <th>region_code</th>\n",
       "      <th>district_code</th>\n",
       "      <th>lga</th>\n",
       "      <th>ward</th>\n",
       "      <th>population</th>\n",
       "      <th>public_meeting</th>\n",
       "      <th>recorded_by</th>\n",
       "      <th>scheme_management</th>\n",
       "    </tr>\n",
       "    <tr>\n",
       "      <th>id</th>\n",
       "      <th></th>\n",
       "      <th></th>\n",
       "      <th></th>\n",
       "      <th></th>\n",
       "      <th></th>\n",
       "      <th></th>\n",
       "      <th></th>\n",
       "      <th></th>\n",
       "      <th></th>\n",
       "      <th></th>\n",
       "      <th></th>\n",
       "      <th></th>\n",
       "      <th></th>\n",
       "      <th></th>\n",
       "      <th></th>\n",
       "      <th></th>\n",
       "      <th></th>\n",
       "      <th></th>\n",
       "      <th></th>\n",
       "      <th></th>\n",
       "    </tr>\n",
       "  </thead>\n",
       "  <tbody>\n",
       "    <tr>\n",
       "      <th>69572</th>\n",
       "      <td>6000.0</td>\n",
       "      <td>2011-03-14</td>\n",
       "      <td>Roman</td>\n",
       "      <td>1390</td>\n",
       "      <td>Roman</td>\n",
       "      <td>34.938093</td>\n",
       "      <td>-9.856322</td>\n",
       "      <td>none</td>\n",
       "      <td>0</td>\n",
       "      <td>Lake Nyasa</td>\n",
       "      <td>Mnyusi B</td>\n",
       "      <td>Iringa</td>\n",
       "      <td>11</td>\n",
       "      <td>5</td>\n",
       "      <td>Ludewa</td>\n",
       "      <td>Mundindi</td>\n",
       "      <td>109</td>\n",
       "      <td>True</td>\n",
       "      <td>GeoData Consultants Ltd</td>\n",
       "      <td>VWC</td>\n",
       "    </tr>\n",
       "    <tr>\n",
       "      <th>8776</th>\n",
       "      <td>0.0</td>\n",
       "      <td>2013-03-06</td>\n",
       "      <td>Grumeti</td>\n",
       "      <td>1399</td>\n",
       "      <td>GRUMETI</td>\n",
       "      <td>34.698766</td>\n",
       "      <td>-2.147466</td>\n",
       "      <td>Zahanati</td>\n",
       "      <td>0</td>\n",
       "      <td>Lake Victoria</td>\n",
       "      <td>Nyamara</td>\n",
       "      <td>Mara</td>\n",
       "      <td>20</td>\n",
       "      <td>2</td>\n",
       "      <td>Serengeti</td>\n",
       "      <td>Natta</td>\n",
       "      <td>280</td>\n",
       "      <td>NaN</td>\n",
       "      <td>GeoData Consultants Ltd</td>\n",
       "      <td>Other</td>\n",
       "    </tr>\n",
       "    <tr>\n",
       "      <th>34310</th>\n",
       "      <td>25.0</td>\n",
       "      <td>2013-02-25</td>\n",
       "      <td>Lottery Club</td>\n",
       "      <td>686</td>\n",
       "      <td>World vision</td>\n",
       "      <td>37.460664</td>\n",
       "      <td>-3.821329</td>\n",
       "      <td>Kwa Mahundi</td>\n",
       "      <td>0</td>\n",
       "      <td>Pangani</td>\n",
       "      <td>Majengo</td>\n",
       "      <td>Manyara</td>\n",
       "      <td>21</td>\n",
       "      <td>4</td>\n",
       "      <td>Simanjiro</td>\n",
       "      <td>Ngorika</td>\n",
       "      <td>250</td>\n",
       "      <td>True</td>\n",
       "      <td>GeoData Consultants Ltd</td>\n",
       "      <td>VWC</td>\n",
       "    </tr>\n",
       "    <tr>\n",
       "      <th>67743</th>\n",
       "      <td>0.0</td>\n",
       "      <td>2013-01-28</td>\n",
       "      <td>Unicef</td>\n",
       "      <td>263</td>\n",
       "      <td>UNICEF</td>\n",
       "      <td>38.486161</td>\n",
       "      <td>-11.155298</td>\n",
       "      <td>Zahanati Ya Nanyumbu</td>\n",
       "      <td>0</td>\n",
       "      <td>Ruvuma / Southern Coast</td>\n",
       "      <td>Mahakamani</td>\n",
       "      <td>Mtwara</td>\n",
       "      <td>90</td>\n",
       "      <td>63</td>\n",
       "      <td>Nanyumbu</td>\n",
       "      <td>Nanyumbu</td>\n",
       "      <td>58</td>\n",
       "      <td>True</td>\n",
       "      <td>GeoData Consultants Ltd</td>\n",
       "      <td>VWC</td>\n",
       "    </tr>\n",
       "    <tr>\n",
       "      <th>19728</th>\n",
       "      <td>0.0</td>\n",
       "      <td>2011-07-13</td>\n",
       "      <td>Action In A</td>\n",
       "      <td>0</td>\n",
       "      <td>Artisan</td>\n",
       "      <td>31.130847</td>\n",
       "      <td>-1.825359</td>\n",
       "      <td>Shuleni</td>\n",
       "      <td>0</td>\n",
       "      <td>Lake Victoria</td>\n",
       "      <td>Kyanyamisa</td>\n",
       "      <td>Kagera</td>\n",
       "      <td>18</td>\n",
       "      <td>1</td>\n",
       "      <td>Karagwe</td>\n",
       "      <td>Nyakasimbi</td>\n",
       "      <td>0</td>\n",
       "      <td>True</td>\n",
       "      <td>GeoData Consultants Ltd</td>\n",
       "      <td>NaN</td>\n",
       "    </tr>\n",
       "  </tbody>\n",
       "</table>\n",
       "</div>"
      ],
      "text/plain": [
       "       amount_tsh date_recorded        funder  gps_height     installer  \\\n",
       "id                                                                        \n",
       "69572      6000.0    2011-03-14         Roman        1390         Roman   \n",
       "8776          0.0    2013-03-06       Grumeti        1399       GRUMETI   \n",
       "34310        25.0    2013-02-25  Lottery Club         686  World vision   \n",
       "67743         0.0    2013-01-28        Unicef         263        UNICEF   \n",
       "19728         0.0    2011-07-13   Action In A           0       Artisan   \n",
       "\n",
       "       longitude   latitude              wpt_name  num_private  \\\n",
       "id                                                               \n",
       "69572  34.938093  -9.856322                  none            0   \n",
       "8776   34.698766  -2.147466              Zahanati            0   \n",
       "34310  37.460664  -3.821329           Kwa Mahundi            0   \n",
       "67743  38.486161 -11.155298  Zahanati Ya Nanyumbu            0   \n",
       "19728  31.130847  -1.825359               Shuleni            0   \n",
       "\n",
       "                         basin  subvillage   region  region_code  \\\n",
       "id                                                                 \n",
       "69572               Lake Nyasa    Mnyusi B   Iringa           11   \n",
       "8776             Lake Victoria     Nyamara     Mara           20   \n",
       "34310                  Pangani     Majengo  Manyara           21   \n",
       "67743  Ruvuma / Southern Coast  Mahakamani   Mtwara           90   \n",
       "19728            Lake Victoria  Kyanyamisa   Kagera           18   \n",
       "\n",
       "       district_code        lga        ward  population public_meeting  \\\n",
       "id                                                                       \n",
       "69572              5     Ludewa    Mundindi         109           True   \n",
       "8776               2  Serengeti       Natta         280            NaN   \n",
       "34310              4  Simanjiro     Ngorika         250           True   \n",
       "67743             63   Nanyumbu    Nanyumbu          58           True   \n",
       "19728              1    Karagwe  Nyakasimbi           0           True   \n",
       "\n",
       "                   recorded_by scheme_management  \n",
       "id                                                \n",
       "69572  GeoData Consultants Ltd               VWC  \n",
       "8776   GeoData Consultants Ltd             Other  \n",
       "34310  GeoData Consultants Ltd               VWC  \n",
       "67743  GeoData Consultants Ltd               VWC  \n",
       "19728  GeoData Consultants Ltd               NaN  "
      ]
     },
     "execution_count": 6,
     "metadata": {},
     "output_type": "execute_result"
    }
   ],
   "source": [
    "train_feature_dataset.head(5).iloc[:,0:20]"
   ]
  },
  {
   "cell_type": "code",
   "execution_count": 7,
   "metadata": {
    "scrolled": false
   },
   "outputs": [
    {
     "data": {
      "text/html": [
       "<div>\n",
       "<style>\n",
       "    .dataframe thead tr:only-child th {\n",
       "        text-align: right;\n",
       "    }\n",
       "\n",
       "    .dataframe thead th {\n",
       "        text-align: left;\n",
       "    }\n",
       "\n",
       "    .dataframe tbody tr th {\n",
       "        vertical-align: top;\n",
       "    }\n",
       "</style>\n",
       "<table border=\"1\" class=\"dataframe\">\n",
       "  <thead>\n",
       "    <tr style=\"text-align: right;\">\n",
       "      <th></th>\n",
       "      <th>scheme_name</th>\n",
       "      <th>permit</th>\n",
       "      <th>construction_year</th>\n",
       "      <th>extraction_type</th>\n",
       "      <th>extraction_type_group</th>\n",
       "      <th>extraction_type_class</th>\n",
       "      <th>management</th>\n",
       "      <th>management_group</th>\n",
       "      <th>payment</th>\n",
       "      <th>payment_type</th>\n",
       "      <th>water_quality</th>\n",
       "      <th>quality_group</th>\n",
       "      <th>quantity</th>\n",
       "      <th>quantity_group</th>\n",
       "      <th>source</th>\n",
       "      <th>source_type</th>\n",
       "      <th>source_class</th>\n",
       "      <th>waterpoint_type</th>\n",
       "      <th>waterpoint_type_group</th>\n",
       "    </tr>\n",
       "    <tr>\n",
       "      <th>id</th>\n",
       "      <th></th>\n",
       "      <th></th>\n",
       "      <th></th>\n",
       "      <th></th>\n",
       "      <th></th>\n",
       "      <th></th>\n",
       "      <th></th>\n",
       "      <th></th>\n",
       "      <th></th>\n",
       "      <th></th>\n",
       "      <th></th>\n",
       "      <th></th>\n",
       "      <th></th>\n",
       "      <th></th>\n",
       "      <th></th>\n",
       "      <th></th>\n",
       "      <th></th>\n",
       "      <th></th>\n",
       "      <th></th>\n",
       "    </tr>\n",
       "  </thead>\n",
       "  <tbody>\n",
       "    <tr>\n",
       "      <th>69572</th>\n",
       "      <td>Roman</td>\n",
       "      <td>False</td>\n",
       "      <td>1999</td>\n",
       "      <td>gravity</td>\n",
       "      <td>gravity</td>\n",
       "      <td>gravity</td>\n",
       "      <td>vwc</td>\n",
       "      <td>user-group</td>\n",
       "      <td>pay annually</td>\n",
       "      <td>annually</td>\n",
       "      <td>soft</td>\n",
       "      <td>good</td>\n",
       "      <td>enough</td>\n",
       "      <td>enough</td>\n",
       "      <td>spring</td>\n",
       "      <td>spring</td>\n",
       "      <td>groundwater</td>\n",
       "      <td>communal standpipe</td>\n",
       "      <td>communal standpipe</td>\n",
       "    </tr>\n",
       "    <tr>\n",
       "      <th>8776</th>\n",
       "      <td>NaN</td>\n",
       "      <td>True</td>\n",
       "      <td>2010</td>\n",
       "      <td>gravity</td>\n",
       "      <td>gravity</td>\n",
       "      <td>gravity</td>\n",
       "      <td>wug</td>\n",
       "      <td>user-group</td>\n",
       "      <td>never pay</td>\n",
       "      <td>never pay</td>\n",
       "      <td>soft</td>\n",
       "      <td>good</td>\n",
       "      <td>insufficient</td>\n",
       "      <td>insufficient</td>\n",
       "      <td>rainwater harvesting</td>\n",
       "      <td>rainwater harvesting</td>\n",
       "      <td>surface</td>\n",
       "      <td>communal standpipe</td>\n",
       "      <td>communal standpipe</td>\n",
       "    </tr>\n",
       "    <tr>\n",
       "      <th>34310</th>\n",
       "      <td>Nyumba ya mungu pipe scheme</td>\n",
       "      <td>True</td>\n",
       "      <td>2009</td>\n",
       "      <td>gravity</td>\n",
       "      <td>gravity</td>\n",
       "      <td>gravity</td>\n",
       "      <td>vwc</td>\n",
       "      <td>user-group</td>\n",
       "      <td>pay per bucket</td>\n",
       "      <td>per bucket</td>\n",
       "      <td>soft</td>\n",
       "      <td>good</td>\n",
       "      <td>enough</td>\n",
       "      <td>enough</td>\n",
       "      <td>dam</td>\n",
       "      <td>dam</td>\n",
       "      <td>surface</td>\n",
       "      <td>communal standpipe multiple</td>\n",
       "      <td>communal standpipe</td>\n",
       "    </tr>\n",
       "    <tr>\n",
       "      <th>67743</th>\n",
       "      <td>NaN</td>\n",
       "      <td>True</td>\n",
       "      <td>1986</td>\n",
       "      <td>submersible</td>\n",
       "      <td>submersible</td>\n",
       "      <td>submersible</td>\n",
       "      <td>vwc</td>\n",
       "      <td>user-group</td>\n",
       "      <td>never pay</td>\n",
       "      <td>never pay</td>\n",
       "      <td>soft</td>\n",
       "      <td>good</td>\n",
       "      <td>dry</td>\n",
       "      <td>dry</td>\n",
       "      <td>machine dbh</td>\n",
       "      <td>borehole</td>\n",
       "      <td>groundwater</td>\n",
       "      <td>communal standpipe multiple</td>\n",
       "      <td>communal standpipe</td>\n",
       "    </tr>\n",
       "    <tr>\n",
       "      <th>19728</th>\n",
       "      <td>NaN</td>\n",
       "      <td>True</td>\n",
       "      <td>0</td>\n",
       "      <td>gravity</td>\n",
       "      <td>gravity</td>\n",
       "      <td>gravity</td>\n",
       "      <td>other</td>\n",
       "      <td>other</td>\n",
       "      <td>never pay</td>\n",
       "      <td>never pay</td>\n",
       "      <td>soft</td>\n",
       "      <td>good</td>\n",
       "      <td>seasonal</td>\n",
       "      <td>seasonal</td>\n",
       "      <td>rainwater harvesting</td>\n",
       "      <td>rainwater harvesting</td>\n",
       "      <td>surface</td>\n",
       "      <td>communal standpipe</td>\n",
       "      <td>communal standpipe</td>\n",
       "    </tr>\n",
       "  </tbody>\n",
       "</table>\n",
       "</div>"
      ],
      "text/plain": [
       "                       scheme_name permit  construction_year extraction_type  \\\n",
       "id                                                                             \n",
       "69572                        Roman  False               1999         gravity   \n",
       "8776                           NaN   True               2010         gravity   \n",
       "34310  Nyumba ya mungu pipe scheme   True               2009         gravity   \n",
       "67743                          NaN   True               1986     submersible   \n",
       "19728                          NaN   True                  0         gravity   \n",
       "\n",
       "      extraction_type_group extraction_type_class management management_group  \\\n",
       "id                                                                              \n",
       "69572               gravity               gravity        vwc       user-group   \n",
       "8776                gravity               gravity        wug       user-group   \n",
       "34310               gravity               gravity        vwc       user-group   \n",
       "67743           submersible           submersible        vwc       user-group   \n",
       "19728               gravity               gravity      other            other   \n",
       "\n",
       "              payment payment_type water_quality quality_group      quantity  \\\n",
       "id                                                                             \n",
       "69572    pay annually     annually          soft          good        enough   \n",
       "8776        never pay    never pay          soft          good  insufficient   \n",
       "34310  pay per bucket   per bucket          soft          good        enough   \n",
       "67743       never pay    never pay          soft          good           dry   \n",
       "19728       never pay    never pay          soft          good      seasonal   \n",
       "\n",
       "      quantity_group                source           source_type source_class  \\\n",
       "id                                                                              \n",
       "69572         enough                spring                spring  groundwater   \n",
       "8776    insufficient  rainwater harvesting  rainwater harvesting      surface   \n",
       "34310         enough                   dam                   dam      surface   \n",
       "67743            dry           machine dbh              borehole  groundwater   \n",
       "19728       seasonal  rainwater harvesting  rainwater harvesting      surface   \n",
       "\n",
       "                   waterpoint_type waterpoint_type_group  \n",
       "id                                                        \n",
       "69572           communal standpipe    communal standpipe  \n",
       "8776            communal standpipe    communal standpipe  \n",
       "34310  communal standpipe multiple    communal standpipe  \n",
       "67743  communal standpipe multiple    communal standpipe  \n",
       "19728           communal standpipe    communal standpipe  "
      ]
     },
     "execution_count": 7,
     "metadata": {},
     "output_type": "execute_result"
    }
   ],
   "source": [
    "train_feature_dataset.head(5).iloc[:,20:40]"
   ]
  },
  {
   "cell_type": "code",
   "execution_count": 4,
   "metadata": {
    "collapsed": true
   },
   "outputs": [],
   "source": [
    "data = specifics.build_data(train_feature_df = train_feature_dataset, \n",
    "                            train_outcome_df = train_outcome_dataset, \n",
    "                            test_feature_df = test_feature_dataset)"
   ]
  },
  {
   "cell_type": "code",
   "execution_count": 6,
   "metadata": {},
   "outputs": [
    {
     "data": {
      "text/plain": [
       "(59400, 795)"
      ]
     },
     "execution_count": 6,
     "metadata": {},
     "output_type": "execute_result"
    }
   ],
   "source": [
    "data.train_feature_df.shape"
   ]
  },
  {
   "cell_type": "code",
   "execution_count": 7,
   "metadata": {},
   "outputs": [
    {
     "data": {
      "text/plain": [
       "(14850, 795)"
      ]
     },
     "execution_count": 7,
     "metadata": {},
     "output_type": "execute_result"
    }
   ],
   "source": [
    "data.test_feature_df.shape"
   ]
  },
  {
   "cell_type": "code",
   "execution_count": 8,
   "metadata": {
    "scrolled": true
   },
   "outputs": [
    {
     "data": {
      "text/plain": [
       "['amount_tsh',\n",
       " 'gps_height',\n",
       " 'longitude',\n",
       " 'latitude',\n",
       " 'num_private',\n",
       " 'region_code',\n",
       " 'district_code',\n",
       " 'population',\n",
       " 'public_meeting',\n",
       " 'permit',\n",
       " 'construction_year',\n",
       " 'created_day',\n",
       " 'created_dow',\n",
       " 'created_month',\n",
       " 'created_year',\n",
       " 'age',\n",
       " 'funder_length',\n",
       " 'installer_length',\n",
       " 'scheme_name_length',\n",
       " 'subvillage_name_length',\n",
       " 'ward_length',\n",
       " 'wpt_name_length',\n",
       " 'funder_freq',\n",
       " 'installer_freq',\n",
       " 'scheme_name_freq',\n",
       " 'subvillage_freq',\n",
       " 'ward_freq',\n",
       " 'wpt_name_freq',\n",
       " 'basin__internal',\n",
       " 'basin__lake_nyasa',\n",
       " 'basin__lake_rukwa',\n",
       " 'basin__lake_tanganyika',\n",
       " 'basin__lake_victoria',\n",
       " 'basin__pangani',\n",
       " 'basin__rufiji',\n",
       " 'basin__ruvuma_/_southern_coast',\n",
       " 'basin__wami_/_ruvu',\n",
       " 'region__arusha',\n",
       " 'region__dar_es_salaam',\n",
       " 'region__dodoma',\n",
       " 'region__iringa',\n",
       " 'region__kagera',\n",
       " 'region__kigoma',\n",
       " 'region__kilimanjaro',\n",
       " 'region__lindi',\n",
       " 'region__manyara',\n",
       " 'region__mara',\n",
       " 'region__mbeya',\n",
       " 'region__morogoro',\n",
       " 'region__mtwara',\n",
       " 'region__mwanza',\n",
       " 'region__pwani',\n",
       " 'region__rukwa',\n",
       " 'region__ruvuma',\n",
       " 'region__shinyanga',\n",
       " 'region__singida',\n",
       " 'region__tabora',\n",
       " 'region__tanga',\n",
       " 'lga__arusha_rural',\n",
       " 'lga__arusha_urban',\n",
       " 'lga__babati',\n",
       " 'lga__bagamoyo',\n",
       " 'lga__bahi',\n",
       " 'lga__bariadi',\n",
       " 'lga__biharamulo',\n",
       " 'lga__bukoba_rural',\n",
       " 'lga__bukoba_urban',\n",
       " 'lga__bukombe',\n",
       " 'lga__bunda',\n",
       " 'lga__chamwino',\n",
       " 'lga__chato',\n",
       " 'lga__chunya',\n",
       " 'lga__dodoma_urban',\n",
       " 'lga__geita',\n",
       " 'lga__hai',\n",
       " 'lga__hanang',\n",
       " 'lga__handeni',\n",
       " 'lga__igunga',\n",
       " 'lga__ilala',\n",
       " 'lga__ileje',\n",
       " 'lga__ilemela',\n",
       " 'lga__iramba',\n",
       " 'lga__iringa_rural',\n",
       " 'lga__kahama',\n",
       " 'lga__karagwe',\n",
       " 'lga__karatu',\n",
       " 'lga__kasulu',\n",
       " 'lga__kibaha',\n",
       " 'lga__kibondo',\n",
       " 'lga__kigoma_rural',\n",
       " 'lga__kigoma_urban',\n",
       " 'lga__kilindi',\n",
       " 'lga__kilolo',\n",
       " 'lga__kilombero',\n",
       " 'lga__kilosa',\n",
       " 'lga__kilwa',\n",
       " 'lga__kinondoni',\n",
       " 'lga__kisarawe',\n",
       " 'lga__kishapu',\n",
       " 'lga__kiteto',\n",
       " 'lga__kondoa',\n",
       " 'lga__kongwa',\n",
       " 'lga__korogwe',\n",
       " 'lga__kwimba',\n",
       " 'lga__kyela',\n",
       " 'lga__lindi_rural',\n",
       " 'lga__lindi_urban',\n",
       " 'lga__liwale',\n",
       " 'lga__longido',\n",
       " 'lga__ludewa',\n",
       " 'lga__lushoto',\n",
       " 'lga__mafia',\n",
       " 'lga__magu',\n",
       " 'lga__makete',\n",
       " 'lga__manyoni',\n",
       " 'lga__masasi',\n",
       " 'lga__maswa',\n",
       " 'lga__mbarali',\n",
       " 'lga__mbeya_rural',\n",
       " 'lga__mbinga',\n",
       " 'lga__mbozi',\n",
       " 'lga__mbulu',\n",
       " 'lga__meatu',\n",
       " 'lga__meru',\n",
       " 'lga__misenyi',\n",
       " 'lga__missungwi',\n",
       " 'lga__mkinga',\n",
       " 'lga__mkuranga',\n",
       " 'lga__monduli',\n",
       " 'lga__morogoro_rural',\n",
       " 'lga__morogoro_urban',\n",
       " 'lga__moshi_rural',\n",
       " 'lga__moshi_urban',\n",
       " 'lga__mpanda',\n",
       " 'lga__mpwapwa',\n",
       " 'lga__mtwara_rural',\n",
       " 'lga__mtwara_urban',\n",
       " 'lga__mufindi',\n",
       " 'lga__muheza',\n",
       " 'lga__muleba',\n",
       " 'lga__musoma_rural',\n",
       " 'lga__mvomero',\n",
       " 'lga__mwanga',\n",
       " 'lga__nachingwea',\n",
       " 'lga__namtumbo',\n",
       " 'lga__nanyumbu',\n",
       " 'lga__newala',\n",
       " 'lga__ngara',\n",
       " 'lga__ngorongoro',\n",
       " 'lga__njombe',\n",
       " 'lga__nkasi',\n",
       " 'lga__nyamagana',\n",
       " 'lga__nzega',\n",
       " 'lga__pangani',\n",
       " 'lga__rombo',\n",
       " 'lga__rorya',\n",
       " 'lga__ruangwa',\n",
       " 'lga__rufiji',\n",
       " 'lga__rungwe',\n",
       " 'lga__same',\n",
       " 'lga__sengerema',\n",
       " 'lga__serengeti',\n",
       " 'lga__shinyanga_rural',\n",
       " 'lga__shinyanga_urban',\n",
       " 'lga__siha',\n",
       " 'lga__sikonge',\n",
       " 'lga__simanjiro',\n",
       " 'lga__singida_rural',\n",
       " 'lga__singida_urban',\n",
       " 'lga__songea_rural',\n",
       " 'lga__songea_urban',\n",
       " 'lga__sumbawanga_rural',\n",
       " 'lga__sumbawanga_urban',\n",
       " 'lga__tabora_urban',\n",
       " 'lga__tandahimba',\n",
       " 'lga__tanga',\n",
       " 'lga__tarime',\n",
       " 'lga__temeke',\n",
       " 'lga__tunduru',\n",
       " 'lga__ukerewe',\n",
       " 'lga__ulanga',\n",
       " 'lga__urambo',\n",
       " 'lga__uyui',\n",
       " 'scheme_management__company',\n",
       " 'scheme_management__none',\n",
       " 'scheme_management__other',\n",
       " 'scheme_management__parastatal',\n",
       " 'scheme_management__private_operator',\n",
       " 'scheme_management__swc',\n",
       " 'scheme_management__trust',\n",
       " 'scheme_management__undefined',\n",
       " 'scheme_management__vwc',\n",
       " 'scheme_management__water_authority',\n",
       " 'scheme_management__water_board',\n",
       " 'scheme_management__wua',\n",
       " 'scheme_management__wug',\n",
       " 'extraction_type__afridev',\n",
       " 'extraction_type__cemo',\n",
       " 'extraction_type__climax',\n",
       " 'extraction_type__gravity',\n",
       " 'extraction_type__india_mark_ii',\n",
       " 'extraction_type__india_mark_iii',\n",
       " 'extraction_type__ksb',\n",
       " 'extraction_type__mono',\n",
       " 'extraction_type__nira/tanira',\n",
       " 'extraction_type__other',\n",
       " 'extraction_type__other___mkulima/shinyanga',\n",
       " 'extraction_type__other___play_pump',\n",
       " 'extraction_type__other___rope_pump',\n",
       " 'extraction_type__other___swn_81',\n",
       " 'extraction_type__submersible',\n",
       " 'extraction_type__swn_80',\n",
       " 'extraction_type__walimi',\n",
       " 'extraction_type__windmill',\n",
       " 'extraction_type_group__other_handpump',\n",
       " 'extraction_type_group__other_motorpump',\n",
       " 'extraction_type_group__submersible',\n",
       " 'extraction_type_class__handpump',\n",
       " 'extraction_type_class__motorpump',\n",
       " 'management__company',\n",
       " 'management__other',\n",
       " 'management__other___school',\n",
       " 'management__parastatal',\n",
       " 'management__private_operator',\n",
       " 'management__trust',\n",
       " 'management__unknown',\n",
       " 'management__vwc',\n",
       " 'management__water_authority',\n",
       " 'management__water_board',\n",
       " 'management__wua',\n",
       " 'management__wug',\n",
       " 'management_group__commercial',\n",
       " 'management_group__other',\n",
       " 'management_group__user_group',\n",
       " 'payment__never_pay',\n",
       " 'payment__other',\n",
       " 'payment__pay_annually',\n",
       " 'payment__pay_monthly',\n",
       " 'payment__pay_per_bucket',\n",
       " 'payment__pay_when_scheme_fails',\n",
       " 'payment__unknown',\n",
       " 'water_quality__coloured',\n",
       " 'water_quality__fluoride',\n",
       " 'water_quality__fluoride_abandoned',\n",
       " 'water_quality__milky',\n",
       " 'water_quality__salty',\n",
       " 'water_quality__salty_abandoned',\n",
       " 'water_quality__soft',\n",
       " 'water_quality__unknown',\n",
       " 'quality_group__fluoride',\n",
       " 'quality_group__salty',\n",
       " 'quantity__dry',\n",
       " 'quantity__enough',\n",
       " 'quantity__insufficient',\n",
       " 'quantity__seasonal',\n",
       " 'quantity__unknown',\n",
       " 'source__dam',\n",
       " 'source__hand_dtw',\n",
       " 'source__lake',\n",
       " 'source__machine_dbh',\n",
       " 'source__other',\n",
       " 'source__rainwater_harvesting',\n",
       " 'source__river',\n",
       " 'source__shallow_well',\n",
       " 'source__spring',\n",
       " 'source__unknown',\n",
       " 'source_type__borehole',\n",
       " 'source_type__other',\n",
       " 'source_type__river/lake',\n",
       " 'source_class__groundwater',\n",
       " 'source_class__surface',\n",
       " 'waterpoint_type__cattle_trough',\n",
       " 'waterpoint_type__communal_standpipe',\n",
       " 'waterpoint_type__communal_standpipe_multiple',\n",
       " 'waterpoint_type__dam',\n",
       " 'waterpoint_type__hand_pump',\n",
       " 'waterpoint_type__improved_spring',\n",
       " 'waterpoint_type__other',\n",
       " 'waterpoint_type_group__communal_standpipe',\n",
       " 'funder_small_levels_grouped__0',\n",
       " 'funder_small_levels_grouped__adb',\n",
       " 'funder_small_levels_grouped__adra',\n",
       " 'funder_small_levels_grouped__african',\n",
       " 'funder_small_levels_grouped__aict',\n",
       " 'funder_small_levels_grouped__amref',\n",
       " 'funder_small_levels_grouped__anglican_church',\n",
       " 'funder_small_levels_grouped__bsf',\n",
       " 'funder_small_levels_grouped__caritas',\n",
       " 'funder_small_levels_grouped__cdtf',\n",
       " 'funder_small_levels_grouped__cefa',\n",
       " 'funder_small_levels_grouped__ces(gmbh)',\n",
       " 'funder_small_levels_grouped__ces_(gmbh)',\n",
       " 'funder_small_levels_grouped__cmsr',\n",
       " 'funder_small_levels_grouped__co',\n",
       " 'funder_small_levels_grouped__community',\n",
       " 'funder_small_levels_grouped__conce',\n",
       " 'funder_small_levels_grouped__concern',\n",
       " 'funder_small_levels_grouped__concern_world_wide',\n",
       " 'funder_small_levels_grouped__danida',\n",
       " 'funder_small_levels_grouped__ded',\n",
       " 'funder_small_levels_grouped__dfid',\n",
       " 'funder_small_levels_grouped__dh',\n",
       " 'funder_small_levels_grouped__dhv',\n",
       " 'funder_small_levels_grouped__district_council',\n",
       " 'funder_small_levels_grouped__dmdd',\n",
       " 'funder_small_levels_grouped__dwe',\n",
       " 'funder_small_levels_grouped__dwsp',\n",
       " 'funder_small_levels_grouped__fin_water',\n",
       " 'funder_small_levels_grouped__fini_water',\n",
       " 'funder_small_levels_grouped__finw',\n",
       " 'funder_small_levels_grouped__fw',\n",
       " 'funder_small_levels_grouped__germany',\n",
       " 'funder_small_levels_grouped__germany_republi',\n",
       " 'funder_small_levels_grouped__go',\n",
       " 'funder_small_levels_grouped__government_of_tanzania',\n",
       " 'funder_small_levels_grouped__gtz',\n",
       " 'funder_small_levels_grouped__h',\n",
       " 'funder_small_levels_grouped__halmashauri_ya_wilaya_sikonge',\n",
       " 'funder_small_levels_grouped__he',\n",
       " 'funder_small_levels_grouped__hesawa',\n",
       " 'funder_small_levels_grouped__hifab',\n",
       " 'funder_small_levels_grouped__hsw',\n",
       " 'funder_small_levels_grouped__idc',\n",
       " 'funder_small_levels_grouped__ir',\n",
       " 'funder_small_levels_grouped__irish_ai',\n",
       " 'funder_small_levels_grouped__is',\n",
       " 'funder_small_levels_grouped__isf',\n",
       " 'funder_small_levels_grouped__jaica',\n",
       " 'funder_small_levels_grouped__japan',\n",
       " 'funder_small_levels_grouped__jica',\n",
       " 'funder_small_levels_grouped__kaemp',\n",
       " 'funder_small_levels_grouped__ki',\n",
       " 'funder_small_levels_grouped__kibaha_town_council',\n",
       " 'funder_small_levels_grouped__kiliwater',\n",
       " 'funder_small_levels_grouped__kkkt',\n",
       " 'funder_small_levels_grouped__kkkt_church',\n",
       " 'funder_small_levels_grouped__kkkt_makwale',\n",
       " 'funder_small_levels_grouped__kuwait',\n",
       " 'funder_small_levels_grouped__lamp',\n",
       " 'funder_small_levels_grouped__lawatefuka_water_supply',\n",
       " 'funder_small_levels_grouped__lga',\n",
       " 'funder_small_levels_grouped__lvia',\n",
       " 'funder_small_levels_grouped__lwi',\n",
       " 'funder_small_levels_grouped__magadini_makiwaru_water',\n",
       " 'funder_small_levels_grouped__marafip',\n",
       " 'funder_small_levels_grouped__mdrdp',\n",
       " 'funder_small_levels_grouped__ministry_of_water',\n",
       " 'funder_small_levels_grouped__missi',\n",
       " 'funder_small_levels_grouped__mission',\n",
       " 'funder_small_levels_grouped__mkinga_distric_coun',\n",
       " 'funder_small_levels_grouped__muwsa',\n",
       " 'funder_small_levels_grouped__ndrdp',\n",
       " 'funder_small_levels_grouped__nethalan',\n",
       " 'funder_small_levels_grouped__netherlands',\n",
       " 'funder_small_levels_grouped__no',\n",
       " 'funder_small_levels_grouped__norad',\n",
       " 'funder_small_levels_grouped__oikos_e.afrika',\n",
       " 'funder_small_levels_grouped__oxfam',\n",
       " 'funder_small_levels_grouped__oxfarm',\n",
       " 'funder_small_levels_grouped__padep',\n",
       " 'funder_small_levels_grouped__plan_int',\n",
       " 'funder_small_levels_grouped__private',\n",
       " 'funder_small_levels_grouped__private_individual',\n",
       " 'funder_small_levels_grouped__rc',\n",
       " 'funder_small_levels_grouped__rc_ch',\n",
       " 'funder_small_levels_grouped__rc_church',\n",
       " 'funder_small_levels_grouped__roman',\n",
       " 'funder_small_levels_grouped__roman_catholic',\n",
       " 'funder_small_levels_grouped__ru',\n",
       " 'funder_small_levels_grouped__rudep',\n",
       " 'funder_small_levels_grouped__rural_water_supply_and_sanitat',\n",
       " 'funder_small_levels_grouped__rwssp',\n",
       " 'funder_small_levels_grouped__shipo',\n",
       " 'funder_small_levels_grouped__small_levels',\n",
       " 'funder_small_levels_grouped__snv',\n",
       " 'funder_small_levels_grouped__swedish',\n",
       " 'funder_small_levels_grouped__tanza',\n",
       " 'funder_small_levels_grouped__tardo',\n",
       " 'funder_small_levels_grouped__tasaf',\n",
       " 'funder_small_levels_grouped__tassaf',\n",
       " 'funder_small_levels_grouped__tcrs',\n",
       " 'funder_small_levels_grouped__twe',\n",
       " 'funder_small_levels_grouped__undp',\n",
       " 'funder_small_levels_grouped__unhcr',\n",
       " 'funder_small_levels_grouped__unice',\n",
       " 'funder_small_levels_grouped__unicef',\n",
       " 'funder_small_levels_grouped__village_council',\n",
       " 'funder_small_levels_grouped__villagers',\n",
       " 'funder_small_levels_grouped__vwc',\n",
       " 'funder_small_levels_grouped__w.b',\n",
       " 'funder_small_levels_grouped__wananchi',\n",
       " 'funder_small_levels_grouped__water',\n",
       " 'funder_small_levels_grouped__water_aid_/sema',\n",
       " 'funder_small_levels_grouped__wateraid',\n",
       " 'funder_small_levels_grouped__world_bank',\n",
       " 'funder_small_levels_grouped__world_vision',\n",
       " 'funder_small_levels_grouped__wsdp',\n",
       " 'funder_small_levels_grouped__wua',\n",
       " 'funder_small_levels_grouped__wvt',\n",
       " 'installer_small_levels_grouped__acra',\n",
       " 'installer_small_levels_grouped__adra',\n",
       " 'installer_small_levels_grouped__aict',\n",
       " 'installer_small_levels_grouped__amref',\n",
       " 'installer_small_levels_grouped__angli',\n",
       " 'installer_small_levels_grouped__artisan',\n",
       " 'installer_small_levels_grouped__cefa',\n",
       " 'installer_small_levels_grouped__centr',\n",
       " 'installer_small_levels_grouped__central_government',\n",
       " 'installer_small_levels_grouped__central_govt',\n",
       " 'installer_small_levels_grouped__chamavita',\n",
       " 'installer_small_levels_grouped__commu',\n",
       " 'installer_small_levels_grouped__community',\n",
       " 'installer_small_levels_grouped__consulting_engineer',\n",
       " 'installer_small_levels_grouped__da',\n",
       " 'installer_small_levels_grouped__danid',\n",
       " 'installer_small_levels_grouped__danida',\n",
       " 'installer_small_levels_grouped__dawasco',\n",
       " 'installer_small_levels_grouped__ddca',\n",
       " 'installer_small_levels_grouped__ded',\n",
       " 'installer_small_levels_grouped__dh',\n",
       " 'installer_small_levels_grouped__distri',\n",
       " 'installer_small_levels_grouped__district_council',\n",
       " 'installer_small_levels_grouped__district_water_department',\n",
       " 'installer_small_levels_grouped__dmdd',\n",
       " 'installer_small_levels_grouped__dw',\n",
       " 'installer_small_levels_grouped__dwe',\n",
       " 'installer_small_levels_grouped__dwsp',\n",
       " 'installer_small_levels_grouped__fin_water',\n",
       " 'installer_small_levels_grouped__fini_water',\n",
       " 'installer_small_levels_grouped__finw',\n",
       " 'installer_small_levels_grouped__go',\n",
       " 'installer_small_levels_grouped__gove',\n",
       " 'installer_small_levels_grouped__gover',\n",
       " 'installer_small_levels_grouped__government',\n",
       " 'installer_small_levels_grouped__halmashauri_ya_wilaya_sikonge',\n",
       " 'installer_small_levels_grouped__handeni_trunk_main(',\n",
       " 'installer_small_levels_grouped__hesawa',\n",
       " 'installer_small_levels_grouped__hsw',\n",
       " 'installer_small_levels_grouped__idara_ya_maji',\n",
       " 'installer_small_levels_grouped__ir',\n",
       " 'installer_small_levels_grouped__is',\n",
       " 'installer_small_levels_grouped__isf',\n",
       " 'installer_small_levels_grouped__jaica',\n",
       " 'installer_small_levels_grouped__jica',\n",
       " 'installer_small_levels_grouped__ki',\n",
       " 'installer_small_levels_grouped__kiliwater',\n",
       " 'installer_small_levels_grouped__kkkt',\n",
       " 'installer_small_levels_grouped__kkkt_church',\n",
       " 'installer_small_levels_grouped__kuwait',\n",
       " 'installer_small_levels_grouped__lga',\n",
       " 'installer_small_levels_grouped__lwi',\n",
       " 'installer_small_levels_grouped__mdrdp',\n",
       " 'installer_small_levels_grouped__missi',\n",
       " 'installer_small_levels_grouped__mission',\n",
       " 'installer_small_levels_grouped__mtn',\n",
       " 'installer_small_levels_grouped__mwe',\n",
       " 'installer_small_levels_grouped__norad',\n",
       " 'installer_small_levels_grouped__oikos_e_.africa',\n",
       " 'installer_small_levels_grouped__oxfam',\n",
       " 'installer_small_levels_grouped__oxfarm',\n",
       " 'installer_small_levels_grouped__private',\n",
       " 'installer_small_levels_grouped__rc',\n",
       " 'installer_small_levels_grouped__rc_church',\n",
       " 'installer_small_levels_grouped__region_water_department',\n",
       " 'installer_small_levels_grouped__roman',\n",
       " 'installer_small_levels_grouped__rwe',\n",
       " 'installer_small_levels_grouped__rwssp',\n",
       " 'installer_small_levels_grouped__sema',\n",
       " 'installer_small_levels_grouped__sengerema_water_department',\n",
       " 'installer_small_levels_grouped__shipo',\n",
       " 'installer_small_levels_grouped__small_levels',\n",
       " 'installer_small_levels_grouped__tasaf',\n",
       " 'installer_small_levels_grouped__tcrs',\n",
       " 'installer_small_levels_grouped__twe',\n",
       " 'installer_small_levels_grouped__twesa',\n",
       " 'installer_small_levels_grouped__unicef',\n",
       " 'installer_small_levels_grouped__unisef',\n",
       " 'installer_small_levels_grouped__villagers',\n",
       " 'installer_small_levels_grouped__vwc',\n",
       " 'installer_small_levels_grouped__wa',\n",
       " 'installer_small_levels_grouped__wachina',\n",
       " 'installer_small_levels_grouped__wananchi',\n",
       " 'installer_small_levels_grouped__water',\n",
       " 'installer_small_levels_grouped__water_aid',\n",
       " 'installer_small_levels_grouped__water_board',\n",
       " 'installer_small_levels_grouped__wedeco',\n",
       " 'installer_small_levels_grouped__wizara_ya_maji',\n",
       " 'installer_small_levels_grouped__world',\n",
       " 'installer_small_levels_grouped__world_bank',\n",
       " 'installer_small_levels_grouped__world_vision',\n",
       " 'installer_small_levels_grouped__wu',\n",
       " 'scheme_name_small_levels_grouped__bagamoyo_wate',\n",
       " 'scheme_name_small_levels_grouped__borehole',\n",
       " 'scheme_name_small_levels_grouped__chalinze_wate',\n",
       " 'scheme_name_small_levels_grouped__churu_water_supply',\n",
       " 'scheme_name_small_levels_grouped__d',\n",
       " 'scheme_name_small_levels_grouped__danida',\n",
       " 'scheme_name_small_levels_grouped__g',\n",
       " 'scheme_name_small_levels_grouped__government',\n",
       " 'scheme_name_small_levels_grouped__handeni_trunk_main(h',\n",
       " 'scheme_name_small_levels_grouped__i',\n",
       " 'scheme_name_small_levels_grouped__ikela_wa',\n",
       " 'scheme_name_small_levels_grouped__imalinyi_supply_scheme',\n",
       " 'scheme_name_small_levels_grouped__k',\n",
       " 'scheme_name_small_levels_grouped__kaisho/isingiro_w',\n",
       " 'scheme_name_small_levels_grouped__ki',\n",
       " 'scheme_name_small_levels_grouped__kidia_kilemapunda',\n",
       " 'scheme_name_small_levels_grouped__kijiji',\n",
       " 'scheme_name_small_levels_grouped__kirua_kahe_gravity_water_supply_trust',\n",
       " 'scheme_name_small_levels_grouped__kirua_kahe_pumping_water_trust',\n",
       " 'scheme_name_small_levels_grouped__komaka_mandaka',\n",
       " 'scheme_name_small_levels_grouped__losaa_kia_water_supply',\n",
       " 'scheme_name_small_levels_grouped__lyamungo_umbwe_water_supply',\n",
       " 'scheme_name_small_levels_grouped__m',\n",
       " 'scheme_name_small_levels_grouped__maambreni_gravity_water_supply',\n",
       " 'scheme_name_small_levels_grouped__machame_water_supply',\n",
       " 'scheme_name_small_levels_grouped__machumba_estate_pipe_line',\n",
       " 'scheme_name_small_levels_grouped__mamire_water_supply',\n",
       " 'scheme_name_small_levels_grouped__mgandazi',\n",
       " 'scheme_name_small_levels_grouped__mitema',\n",
       " 'scheme_name_small_levels_grouped__mkongoro_one',\n",
       " 'scheme_name_small_levels_grouped__mkongoro_two',\n",
       " 'scheme_name_small_levels_grouped__mradi_wa_maji_wa_peramiho',\n",
       " 'scheme_name_small_levels_grouped__mradi_wa_maji_wa_wino',\n",
       " 'scheme_name_small_levels_grouped__mtimbira',\n",
       " 'scheme_name_small_levels_grouped__mtwango_water_supply_scheme',\n",
       " 'scheme_name_small_levels_grouped__n',\n",
       " 'scheme_name_small_levels_grouped__nabaiye_pipe_line',\n",
       " 'scheme_name_small_levels_grouped__nasula_gravity_water_supply',\n",
       " 'scheme_name_small_levels_grouped__nchulowaibale_water_supply_scheme',\n",
       " 'scheme_name_small_levels_grouped__ngamanga_water_supplied_sch',\n",
       " 'scheme_name_small_levels_grouped__ngana_water_supplied_scheme',\n",
       " 'scheme_name_small_levels_grouped__none',\n",
       " 'scheme_name_small_levels_grouped__olkokola_pipe_line',\n",
       " 'scheme_name_small_levels_grouped__otaruni_water_supply',\n",
       " 'scheme_name_small_levels_grouped__roman',\n",
       " 'scheme_name_small_levels_grouped__s',\n",
       " 'scheme_name_small_levels_grouped__shallow_well',\n",
       " 'scheme_name_small_levels_grouped__sinyanga_water_supplied_sc',\n",
       " 'scheme_name_small_levels_grouped__sinyanga_water_supplied_sch',\n",
       " 'scheme_name_small_levels_grouped__small_levels',\n",
       " 'scheme_name_small_levels_grouped__una_mkolowoni',\n",
       " 'scheme_name_small_levels_grouped__upper_ruvu',\n",
       " 'scheme_name_small_levels_grouped__uroki_bomangombe_water_sup',\n",
       " 'scheme_name_small_levels_grouped__wangingombe_supply_scheme',\n",
       " 'scheme_name_small_levels_grouped__wangingombe_water_supply_s',\n",
       " 'subvillage_small_levels_grouped__1',\n",
       " 'subvillage_small_levels_grouped__amani',\n",
       " 'subvillage_small_levels_grouped__azimio',\n",
       " 'subvillage_small_levels_grouped__bondeni',\n",
       " 'subvillage_small_levels_grouped__bwawani',\n",
       " 'subvillage_small_levels_grouped__center',\n",
       " 'subvillage_small_levels_grouped__changombe',\n",
       " 'subvillage_small_levels_grouped__i',\n",
       " 'subvillage_small_levels_grouped__k',\n",
       " 'subvillage_small_levels_grouped__kanisani',\n",
       " 'subvillage_small_levels_grouped__kati',\n",
       " 'subvillage_small_levels_grouped__kawawa',\n",
       " 'subvillage_small_levels_grouped__kibaoni',\n",
       " 'subvillage_small_levels_grouped__kichangani',\n",
       " 'subvillage_small_levels_grouped__kisiwani',\n",
       " 'subvillage_small_levels_grouped__m',\n",
       " 'subvillage_small_levels_grouped__mabatini',\n",
       " 'subvillage_small_levels_grouped__madukani',\n",
       " 'subvillage_small_levels_grouped__maendeleo',\n",
       " 'subvillage_small_levels_grouped__majengo',\n",
       " 'subvillage_small_levels_grouped__mapinduzi',\n",
       " 'subvillage_small_levels_grouped__mbugani',\n",
       " 'subvillage_small_levels_grouped__mbuyuni',\n",
       " 'subvillage_small_levels_grouped__miembeni',\n",
       " 'subvillage_small_levels_grouped__mission',\n",
       " 'subvillage_small_levels_grouped__misufini',\n",
       " 'subvillage_small_levels_grouped__mjimwema',\n",
       " 'subvillage_small_levels_grouped__mjini',\n",
       " 'subvillage_small_levels_grouped__mkwajuni',\n",
       " 'subvillage_small_levels_grouped__mlimani',\n",
       " 'subvillage_small_levels_grouped__msikitini',\n",
       " 'subvillage_small_levels_grouped__mtaa_wa_kitunda_kati',\n",
       " 'subvillage_small_levels_grouped__mtaa_wa_kivule',\n",
       " 'subvillage_small_levels_grouped__mtakuja',\n",
       " 'subvillage_small_levels_grouped__muungano',\n",
       " 'subvillage_small_levels_grouped__mwenge',\n",
       " 'subvillage_small_levels_grouped__nyerere',\n",
       " 'subvillage_small_levels_grouped__senta',\n",
       " 'subvillage_small_levels_grouped__shuleni',\n",
       " 'subvillage_small_levels_grouped__small_levels',\n",
       " 'subvillage_small_levels_grouped__sokoni',\n",
       " 'subvillage_small_levels_grouped__songambele',\n",
       " 'subvillage_small_levels_grouped__zahanati',\n",
       " 'ward_small_levels_grouped__boma_la_ngombe',\n",
       " 'ward_small_levels_grouped__buchambi',\n",
       " 'ward_small_levels_grouped__bugarama',\n",
       " 'ward_small_levels_grouped__bumera',\n",
       " 'ward_small_levels_grouped__bungu',\n",
       " 'ward_small_levels_grouped__busilili',\n",
       " 'ward_small_levels_grouped__busole',\n",
       " 'ward_small_levels_grouped__chakwale',\n",
       " 'ward_small_levels_grouped__chala',\n",
       " 'ward_small_levels_grouped__chalinze',\n",
       " 'ward_small_levels_grouped__chanika',\n",
       " 'ward_small_levels_grouped__chanzuru',\n",
       " 'ward_small_levels_grouped__chimala',\n",
       " 'ward_small_levels_grouped__chinamili',\n",
       " 'ward_small_levels_grouped__diongoya',\n",
       " 'ward_small_levels_grouped__hedaru',\n",
       " 'ward_small_levels_grouped__hembeti',\n",
       " 'ward_small_levels_grouped__ifakara',\n",
       " 'ward_small_levels_grouped__igongolo',\n",
       " 'ward_small_levels_grouped__igosi',\n",
       " 'ward_small_levels_grouped__igurusi',\n",
       " 'ward_small_levels_grouped__ihanda',\n",
       " 'ward_small_levels_grouped__ikolo',\n",
       " 'ward_small_levels_grouped__ilembula',\n",
       " 'ward_small_levels_grouped__ilima',\n",
       " 'ward_small_levels_grouped__ilkidinga',\n",
       " 'ward_small_levels_grouped__ilolangulu',\n",
       " 'ward_small_levels_grouped__imalinyi',\n",
       " 'ward_small_levels_grouped__ipande',\n",
       " 'ward_small_levels_grouped__ipililo',\n",
       " 'ward_small_levels_grouped__isandula',\n",
       " 'ward_small_levels_grouped__isongole',\n",
       " 'ward_small_levels_grouped__itaka',\n",
       " 'ward_small_levels_grouped__itete',\n",
       " 'ward_small_levels_grouped__iyula',\n",
       " 'ward_small_levels_grouped__janda',\n",
       " 'ward_small_levels_grouped__kagongo',\n",
       " 'ward_small_levels_grouped__kakonko',\n",
       " 'ward_small_levels_grouped__kalangalala',\n",
       " 'ward_small_levels_grouped__kanga',\n",
       " 'ward_small_levels_grouped__kassambya',\n",
       " 'ward_small_levels_grouped__keni_mengeni',\n",
       " 'ward_small_levels_grouped__kenyamonta',\n",
       " 'ward_small_levels_grouped__ketumbeine',\n",
       " 'ward_small_levels_grouped__kibaoni',\n",
       " 'ward_small_levels_grouped__kibiti',\n",
       " 'ward_small_levels_grouped__kibosho_magharibi',\n",
       " 'ward_small_levels_grouped__kidatu',\n",
       " 'ward_small_levels_grouped__kidodi',\n",
       " 'ward_small_levels_grouped__kifanya',\n",
       " 'ward_small_levels_grouped__kihorogota',\n",
       " 'ward_small_levels_grouped__kikatiti',\n",
       " 'ward_small_levels_grouped__kileo',\n",
       " 'ward_small_levels_grouped__kimnyaki',\n",
       " 'ward_small_levels_grouped__kimochi',\n",
       " 'ward_small_levels_grouped__kingori',\n",
       " 'ward_small_levels_grouped__kiranyi',\n",
       " 'ward_small_levels_grouped__kirongwe',\n",
       " 'ward_small_levels_grouped__kirua_vunjo_kusini',\n",
       " 'ward_small_levels_grouped__kisesa',\n",
       " 'ward_small_levels_grouped__kitunda',\n",
       " 'ward_small_levels_grouped__kiwira',\n",
       " 'ward_small_levels_grouped__kwakoa',\n",
       " 'ward_small_levels_grouped__kyimo',\n",
       " 'ward_small_levels_grouped__leguruki',\n",
       " 'ward_small_levels_grouped__lembeni',\n",
       " 'ward_small_levels_grouped__luegu',\n",
       " 'ward_small_levels_grouped__lufingo',\n",
       " 'ward_small_levels_grouped__lugoba',\n",
       " 'ward_small_levels_grouped__lumemo',\n",
       " 'ward_small_levels_grouped__lupalilo',\n",
       " 'ward_small_levels_grouped__lupata',\n",
       " 'ward_small_levels_grouped__lupembe',\n",
       " 'ward_small_levels_grouped__lupila',\n",
       " 'ward_small_levels_grouped__lutebe',\n",
       " 'ward_small_levels_grouped__lwangwa',\n",
       " 'ward_small_levels_grouped__mabwerebwere',\n",
       " 'ward_small_levels_grouped__machame_kaskazini',\n",
       " 'ward_small_levels_grouped__machame_uroki',\n",
       " 'ward_small_levels_grouped__magagura',\n",
       " 'ward_small_levels_grouped__magomeni',\n",
       " 'ward_small_levels_grouped__mahembe',\n",
       " 'ward_small_levels_grouped__mahongole',\n",
       " 'ward_small_levels_grouped__maji_ya_chai',\n",
       " 'ward_small_levels_grouped__makambako',\n",
       " 'ward_small_levels_grouped__makuyuni',\n",
       " 'ward_small_levels_grouped__makwale',\n",
       " 'ward_small_levels_grouped__malindi',\n",
       " 'ward_small_levels_grouped__malinyi',\n",
       " 'ward_small_levels_grouped__mamire',\n",
       " 'ward_small_levels_grouped__mangula',\n",
       " 'ward_small_levels_grouped__manyoni',\n",
       " 'ward_small_levels_grouped__mapogoro',\n",
       " 'ward_small_levels_grouped__maposeni',\n",
       " 'ward_small_levels_grouped__maramba',\n",
       " 'ward_small_levels_grouped__masama_magharibi',\n",
       " 'ward_small_levels_grouped__masama_mashariki',\n",
       " 'ward_small_levels_grouped__matendo',\n",
       " 'ward_small_levels_grouped__matola',\n",
       " 'ward_small_levels_grouped__mbulumbulu',\n",
       " 'ward_small_levels_grouped__mbuyuni',\n",
       " 'ward_small_levels_grouped__mbwewe',\n",
       " 'ward_small_levels_grouped__mdandu',\n",
       " 'ward_small_levels_grouped__mhunze',\n",
       " 'ward_small_levels_grouped__mishamo',\n",
       " 'ward_small_levels_grouped__mkalamo',\n",
       " 'ward_small_levels_grouped__mkongo',\n",
       " 'ward_small_levels_grouped__mkula',\n",
       " 'ward_small_levels_grouped__mlali',\n",
       " 'ward_small_levels_grouped__mlangali',\n",
       " 'ward_small_levels_grouped__mlangarini',\n",
       " 'ward_small_levels_grouped__mlimba',\n",
       " 'ward_small_levels_grouped__mpindo',\n",
       " 'ward_small_levels_grouped__mpitimbi',\n",
       " 'ward_small_levels_grouped__mpuguso',\n",
       " 'ward_small_levels_grouped__msata',\n",
       " 'ward_small_levels_grouped__msia',\n",
       " 'ward_small_levels_grouped__msindo',\n",
       " 'ward_small_levels_grouped__mtinko',\n",
       " 'ward_small_levels_grouped__mtwango',\n",
       " 'ward_small_levels_grouped__muhinda',\n",
       " 'ward_small_levels_grouped__mungaa',\n",
       " 'ward_small_levels_grouped__munyegera',\n",
       " 'ward_small_levels_grouped__murufiti',\n",
       " 'ward_small_levels_grouped__muzye',\n",
       " 'ward_small_levels_grouped__mvomero',\n",
       " 'ward_small_levels_grouped__mwandoya',\n",
       " 'ward_small_levels_grouped__mwaya',\n",
       " 'ward_small_levels_grouped__namajani',\n",
       " 'ward_small_levels_grouped__natta',\n",
       " 'ward_small_levels_grouped__nduruma',\n",
       " 'ward_small_levels_grouped__ngarenanyuki',\n",
       " 'ward_small_levels_grouped__njoro',\n",
       " 'ward_small_levels_grouped__nkololo',\n",
       " 'ward_small_levels_grouped__nkoma',\n",
       " 'ward_small_levels_grouped__nkungulu',\n",
       " 'ward_small_levels_grouped__nkwenda',\n",
       " 'ward_small_levels_grouped__nyakitonto',\n",
       " 'ward_small_levels_grouped__nyarubungo',\n",
       " 'ward_small_levels_grouped__nyimbili',\n",
       " 'ward_small_levels_grouped__oldonyosambu',\n",
       " 'ward_small_levels_grouped__olkokola',\n",
       " 'ward_small_levels_grouped__olmolog',\n",
       " 'ward_small_levels_grouped__oltroto',\n",
       " 'ward_small_levels_grouped__pugu',\n",
       " 'ward_small_levels_grouped__ruanda',\n",
       " 'ward_small_levels_grouped__rugongowe',\n",
       " 'ward_small_levels_grouped__ruhembe',\n",
       " 'ward_small_levels_grouped__ruhita',\n",
       " 'ward_small_levels_grouped__rujewa',\n",
       " 'ward_small_levels_grouped__rungwe_mpya',\n",
       " 'ward_small_levels_grouped__rusesa',\n",
       " 'ward_small_levels_grouped__rusumo',\n",
       " 'ward_small_levels_grouped__samuye',\n",
       " 'ward_small_levels_grouped__siha_kati',\n",
       " 'ward_small_levels_grouped__siha_mashariki',\n",
       " 'ward_small_levels_grouped__simbo',\n",
       " 'ward_small_levels_grouped__small_levels',\n",
       " 'ward_small_levels_grouped__soga',\n",
       " 'ward_small_levels_grouped__somanda',\n",
       " 'ward_small_levels_grouped__sukuma',\n",
       " 'ward_small_levels_grouped__tinde',\n",
       " 'ward_small_levels_grouped__ubaruku',\n",
       " 'ward_small_levels_grouped__ukumbi',\n",
       " 'ward_small_levels_grouped__ulenje',\n",
       " 'ward_small_levels_grouped__ushirika',\n",
       " 'ward_small_levels_grouped__ushirombo',\n",
       " 'ward_small_levels_grouped__usuka',\n",
       " 'ward_small_levels_grouped__utete',\n",
       " 'ward_small_levels_grouped__uwemba',\n",
       " 'ward_small_levels_grouped__vikindu',\n",
       " 'ward_small_levels_grouped__wangingombe',\n",
       " 'ward_small_levels_grouped__wino',\n",
       " 'ward_small_levels_grouped__yombo',\n",
       " 'ward_small_levels_grouped__zinga/ikerege',\n",
       " 'wpt_name_small_levels_grouped__bombani',\n",
       " 'wpt_name_small_levels_grouped__bondeni',\n",
       " 'wpt_name_small_levels_grouped__bwawani',\n",
       " 'wpt_name_small_levels_grouped__ccm',\n",
       " 'wpt_name_small_levels_grouped__center',\n",
       " 'wpt_name_small_levels_grouped__hospital',\n",
       " 'wpt_name_small_levels_grouped__kanisani',\n",
       " 'wpt_name_small_levels_grouped__kisimani',\n",
       " 'wpt_name_small_levels_grouped__kituo_cha_afya',\n",
       " 'wpt_name_small_levels_grouped__madukani',\n",
       " 'wpt_name_small_levels_grouped__mbugani',\n",
       " 'wpt_name_small_levels_grouped__mkombozi',\n",
       " 'wpt_name_small_levels_grouped__mkuyuni',\n",
       " 'wpt_name_small_levels_grouped__msikitini',\n",
       " 'wpt_name_small_levels_grouped__mtakuja',\n",
       " 'wpt_name_small_levels_grouped__muungano',\n",
       " 'wpt_name_small_levels_grouped__none',\n",
       " 'wpt_name_small_levels_grouped__ofisi_ya_kijiji',\n",
       " 'wpt_name_small_levels_grouped__ofisini',\n",
       " 'wpt_name_small_levels_grouped__school',\n",
       " 'wpt_name_small_levels_grouped__sekondari',\n",
       " 'wpt_name_small_levels_grouped__shule',\n",
       " 'wpt_name_small_levels_grouped__shule_ya_msingi',\n",
       " 'wpt_name_small_levels_grouped__shuleni',\n",
       " 'wpt_name_small_levels_grouped__small_levels',\n",
       " 'wpt_name_small_levels_grouped__sokoni',\n",
       " 'wpt_name_small_levels_grouped__songambele',\n",
       " 'wpt_name_small_levels_grouped__tankini',\n",
       " 'wpt_name_small_levels_grouped__umoja',\n",
       " 'wpt_name_small_levels_grouped__upendo',\n",
       " 'wpt_name_small_levels_grouped__zahanati']"
      ]
     },
     "execution_count": 8,
     "metadata": {},
     "output_type": "execute_result"
    }
   ],
   "source": [
    "pd.set_option('display.max_rows', 3000)\n",
    "list(data.train_feature_df.columns.values)[0:3000]"
   ]
  },
  {
   "cell_type": "code",
   "execution_count": 9,
   "metadata": {
    "collapsed": true
   },
   "outputs": [],
   "source": [
    "assert sum(data.train_feature_df.index == data.train_outcome_df.index) == len(data.train_feature_df)"
   ]
  },
  {
   "cell_type": "code",
   "execution_count": 5,
   "metadata": {
    "collapsed": true
   },
   "outputs": [],
   "source": [
    "# This chunk is not used in later stage, because it is better to run CV on the whole dataset \n",
    "# (ie. do not split data, because we want the best parameters for the data size of our final \n",
    "# training dataset, not the best parameters for a smaller data size).\n",
    "\n",
    "# X_train, X_test, y_train, y_test = train_test_split(data.train_feature_df, data.train_outcome_df, \n",
    "#                                                     test_size=0.15, random_state=42)"
   ]
  },
  {
   "cell_type": "code",
   "execution_count": null,
   "metadata": {
    "collapsed": true
   },
   "outputs": [],
   "source": []
  },
  {
   "cell_type": "markdown",
   "metadata": {},
   "source": [
    "## Oversampling the minority class: 'functional needs repair' (Not used)"
   ]
  },
  {
   "cell_type": "code",
   "execution_count": 7,
   "metadata": {},
   "outputs": [
    {
     "data": {
      "text/plain": [
       "2    27418\n",
       "0    19390\n",
       "1     3682\n",
       "Name: status_group, dtype: int64"
      ]
     },
     "execution_count": 7,
     "metadata": {},
     "output_type": "execute_result"
    }
   ],
   "source": [
    "# Remember ['functional', 'functional needs repair', 'non functional'] is respectively [2, 1, 0]\n",
    "y_train['status_group'].value_counts()"
   ]
  },
  {
   "cell_type": "code",
   "execution_count": 6,
   "metadata": {
    "collapsed": true
   },
   "outputs": [],
   "source": [
    "from copy import deepcopy\n",
    "train_minority_group_index = deepcopy(y_train[y_train.iloc[:,0] == 1])"
   ]
  },
  {
   "cell_type": "code",
   "execution_count": 7,
   "metadata": {
    "collapsed": true
   },
   "outputs": [],
   "source": [
    "train_minority_group_X_y_combined = X_train.join(train_minority_group_index, how='inner')"
   ]
  },
  {
   "cell_type": "code",
   "execution_count": 8,
   "metadata": {},
   "outputs": [
    {
     "data": {
      "text/plain": [
       "(3682, 268)"
      ]
     },
     "execution_count": 8,
     "metadata": {},
     "output_type": "execute_result"
    }
   ],
   "source": [
    "train_minority_group_X_y_combined.shape"
   ]
  },
  {
   "cell_type": "code",
   "execution_count": 9,
   "metadata": {
    "collapsed": true
   },
   "outputs": [],
   "source": [
    "length = train_minority_group_X_y_combined.shape[0]"
   ]
  },
  {
   "cell_type": "code",
   "execution_count": 10,
   "metadata": {
    "collapsed": true
   },
   "outputs": [],
   "source": [
    "train_minority_group_X_y_combined_combined = pd.concat([train_minority_group_X_y_combined,\n",
    "                                                       #train_minority_group_X_y_combined,\n",
    "                                                       train_minority_group_X_y_combined], ignore_index=True)\n",
    "train_minority_group_X_y_combined_combined['index'] = list(range(100000, 100000 + length * 2))\n",
    "train_minority_group_X_y_combined_combined.set_index('index', inplace = True)"
   ]
  },
  {
   "cell_type": "code",
   "execution_count": 11,
   "metadata": {},
   "outputs": [
    {
     "data": {
      "text/plain": [
       "(7364, 268)"
      ]
     },
     "execution_count": 11,
     "metadata": {},
     "output_type": "execute_result"
    }
   ],
   "source": [
    "train_minority_group_X_y_combined_combined.shape"
   ]
  },
  {
   "cell_type": "code",
   "execution_count": 12,
   "metadata": {
    "collapsed": true
   },
   "outputs": [],
   "source": [
    "X_train = X_train.append(train_minority_group_X_y_combined_combined.drop(['status_group'], axis = 1))\n",
    "y_train = y_train.append(train_minority_group_X_y_combined_combined[['status_group']]) # [[]] to obtain df, not series"
   ]
  },
  {
   "cell_type": "markdown",
   "metadata": {
    "collapsed": true
   },
   "source": [
    "## Oversampling the minority class: 'functional needs repair' ENDS HERE"
   ]
  },
  {
   "cell_type": "code",
   "execution_count": null,
   "metadata": {
    "collapsed": true
   },
   "outputs": [],
   "source": []
  },
  {
   "cell_type": "code",
   "execution_count": null,
   "metadata": {
    "collapsed": true
   },
   "outputs": [],
   "source": []
  },
  {
   "cell_type": "code",
   "execution_count": null,
   "metadata": {
    "collapsed": true
   },
   "outputs": [],
   "source": []
  },
  {
   "cell_type": "markdown",
   "metadata": {},
   "source": [
    "### XGBoost examples\n",
    "\n",
    "https://dataplatform.ibm.com/analytics/notebooks/20c1c2d6-6a51-4bdc-9b2c-0e3f2bef7376/view?access_token=52b727bd6515bd687cfd88f929cc7869b0ea420e668b2730c6870e72e029f0d1\n",
    "\n",
    "https://www.analyticsvidhya.com/blog/2016/03/complete-guide-parameter-tuning-xgboost-with-codes-python/\n",
    "\n",
    "https://cambridgespark.com/content/tutorials/getting-started-with-xgboost/index.html\n",
    "\n",
    "https://zz001.wordpress.com/2017/05/13/basics-of-xgboost-in-python/\n",
    "\n",
    "http://danielhnyk.cz/how-to-use-xgboost-in-python/"
   ]
  },
  {
   "cell_type": "markdown",
   "metadata": {},
   "source": [
    "### How to do with imbalanced data\n",
    "\n",
    "min_child_weight = 1 : A smaller value is chosen because it is a highly imbalanced class problem and leaf nodes can have smaller size groups.\n",
    "\n",
    "\n",
    "From http://xgboost.readthedocs.io/en/latest/how_to/param_tuning.html\n",
    "\n",
    "Handle Imbalanced Dataset\n",
    "\n",
    "For common cases such as ads clickthrough log, the dataset is extremely imbalanced. This can affect the training of xgboost model, and there are two ways to improve it.\n",
    "\n",
    "If you care only about the ranking order (AUC) of your prediction\n",
    "1. Balance the positive and negative weights, via scale_pos_weight\n",
    "2. Use AUC for evaluation\n",
    "\n",
    "If you care about predicting the right probability\n",
    "1. In such a case, you cannot re-balance the dataset\n",
    "2. In such a case, set parameter max_delta_step to a finite number (say 1) will help convergence"
   ]
  },
  {
   "cell_type": "markdown",
   "metadata": {
    "collapsed": true
   },
   "source": [
    "### A test to show why having both XGBClassifier(n_jobs = -1) and RandomizedSearchCV(n_jobs = -1) is the fastest setting."
   ]
  },
  {
   "cell_type": "code",
   "execution_count": 9,
   "metadata": {},
   "outputs": [
    {
     "name": "stdout",
     "output_type": "stream",
     "text": [
      "Time spent: 111.958804\n"
     ]
    }
   ],
   "source": [
    "#import time\n",
    "#start = time.time()\n",
    "\n",
    "#params = {\n",
    "#    \"n_estimators\": [6],\n",
    "#    \"learning_rate\": st.uniform(0.060001, 0.0600003)\n",
    "#}\n",
    "\n",
    "#model = XGBClassifier(n_jobs = -1) # nthread deprecated\n",
    "\n",
    "#gs = RandomizedSearchCV(model, params, n_jobs=1, n_iter=6)\n",
    "\n",
    "#gs.fit(X_train, y_train.iloc[:,0]) \n",
    "\n",
    "#elapsed = time.time() - start\n",
    "#print(\"Time spent: %f\" % (elapsed))"
   ]
  },
  {
   "cell_type": "code",
   "execution_count": null,
   "metadata": {
    "collapsed": true
   },
   "outputs": [],
   "source": []
  },
  {
   "cell_type": "markdown",
   "metadata": {},
   "source": [
    "# Tuning process starts here"
   ]
  },
  {
   "cell_type": "code",
   "execution_count": null,
   "metadata": {
    "collapsed": true
   },
   "outputs": [],
   "source": []
  },
  {
   "cell_type": "code",
   "execution_count": null,
   "metadata": {
    "scrolled": true
   },
   "outputs": [],
   "source": [
    "# The difference between st.randint and st.uniform is just that the first one is an int and second is a float.\n",
    "\n",
    "#one_to_left = st.beta(10, 1)  \n",
    "#from_zero_positive = st.expon(0, 50)\n",
    "\n",
    "params = {\n",
    "    \"n_estimators\": [100],\n",
    "    #\"max_depth\": st.randint(20, 40),\n",
    "    \"max_depth\": st.randint(20, 40),\n",
    "    \"learning_rate\": st.uniform(0.001, 0.25),\n",
    "    #\"colsample_bytree\": one_to_left,\n",
    "    \"colsample_bytree\": st.uniform(0.60, 0.40),\n",
    "    #\"subsample\": one_to_left,\n",
    "    \"subsample\": st.uniform(0.7, 0.3),\n",
    "    \"gamma\": st.uniform(0.001, 1.2),\n",
    "    \"min_child_weight\": [0,1,2,3,4,5],\n",
    "    #\"min_child_weight\": from_zero_positive\n",
    "    #\"max_delta_step\": st.randint(0, 5)\n",
    "    \"max_delta_step\": [0, 1, 2, 3]\n",
    "}\n",
    "\n",
    "model = XGBClassifier(n_jobs = -1) # nthread deprecated\n",
    "\n",
    "gs = RandomizedSearchCV(model, params, n_jobs=-1, n_iter=20)\n",
    "\n",
    "#gs.fit(X_train, y_train.iloc[:,0]) \n",
    "gs.fit(data.train_feature_df, data.train_outcome_df.iloc[:,0])"
   ]
  },
  {
   "cell_type": "code",
   "execution_count": 11,
   "metadata": {
    "scrolled": true
   },
   "outputs": [
    {
     "name": "stderr",
     "output_type": "stream",
     "text": [
      "C:\\Users\\Kevin\\Anaconda3\\lib\\site-packages\\sklearn\\model_selection\\_search.py:747: DeprecationWarning: The grid_scores_ attribute was deprecated in version 0.18 in favor of the more elaborate cv_results_ attribute. The grid_scores_ attribute will not be available from 0.20\n",
      "  DeprecationWarning)\n"
     ]
    },
    {
     "data": {
      "text/plain": [
       "[mean: 0.80828, std: 0.00169, params: {'colsample_bytree': 0.92447771998253114, 'gamma': 0.64081556137854812, 'learning_rate': 0.2177378823995112, 'max_delta_step': 3, 'max_depth': 24, 'min_child_weight': 2, 'n_estimators': 30, 'subsample': 0.80788630426812924},\n",
       " mean: 0.80609, std: 0.00115, params: {'colsample_bytree': 0.86178245118887631, 'gamma': 1.3758032562899913, 'learning_rate': 0.39977748910258964, 'max_delta_step': 0, 'max_depth': 23, 'min_child_weight': 2, 'n_estimators': 30, 'subsample': 0.83705075511694016},\n",
       " mean: 0.81113, std: 0.00110, params: {'colsample_bytree': 0.68738506797933363, 'gamma': 0.85954878935980927, 'learning_rate': 0.085255945780874087, 'max_delta_step': 2, 'max_depth': 28, 'min_child_weight': 2, 'n_estimators': 30, 'subsample': 0.82149813575904063},\n",
       " mean: 0.77126, std: 0.00049, params: {'colsample_bytree': 0.68055254657806963, 'gamma': 1.3576367159259619, 'learning_rate': 0.32445913102762358, 'max_delta_step': 0, 'max_depth': 5, 'min_child_weight': 1, 'n_estimators': 30, 'subsample': 0.99242072231501033},\n",
       " mean: 0.79970, std: 0.00155, params: {'colsample_bytree': 0.65275656279330707, 'gamma': 1.3117798147124282, 'learning_rate': 0.35969979570081467, 'max_delta_step': 0, 'max_depth': 10, 'min_child_weight': 3, 'n_estimators': 30, 'subsample': 0.79890679306945089},\n",
       " mean: 0.80475, std: 0.00133, params: {'colsample_bytree': 0.95303740626765254, 'gamma': 1.3646130142131456, 'learning_rate': 0.33495319408132462, 'max_delta_step': 4, 'max_depth': 27, 'min_child_weight': 2, 'n_estimators': 30, 'subsample': 0.98971055252825735},\n",
       " mean: 0.80418, std: 0.00110, params: {'colsample_bytree': 0.96774212416241978, 'gamma': 0.02830586330258561, 'learning_rate': 0.34023691375992937, 'max_delta_step': 0, 'max_depth': 27, 'min_child_weight': 4, 'n_estimators': 30, 'subsample': 0.88528010246115674},\n",
       " mean: 0.80828, std: 0.00157, params: {'colsample_bytree': 0.66835918979088993, 'gamma': 0.55082916946828042, 'learning_rate': 0.044772367274829097, 'max_delta_step': 3, 'max_depth': 15, 'min_child_weight': 1, 'n_estimators': 30, 'subsample': 0.9633036748951167},\n",
       " mean: 0.80816, std: 0.00137, params: {'colsample_bytree': 0.92300390766604457, 'gamma': 0.9800009607283694, 'learning_rate': 0.18102756556753014, 'max_delta_step': 1, 'max_depth': 16, 'min_child_weight': 2, 'n_estimators': 30, 'subsample': 0.7549082338225771},\n",
       " mean: 0.79689, std: 0.00073, params: {'colsample_bytree': 0.94973057718356935, 'gamma': 1.2218274330871828, 'learning_rate': 0.083640392507903435, 'max_delta_step': 1, 'max_depth': 13, 'min_child_weight': 5, 'n_estimators': 30, 'subsample': 0.75980495231858614},\n",
       " mean: 0.80492, std: 0.00190, params: {'colsample_bytree': 0.75875890950033531, 'gamma': 1.1763906800704733, 'learning_rate': 0.37385847732758498, 'max_delta_step': 2, 'max_depth': 17, 'min_child_weight': 1, 'n_estimators': 30, 'subsample': 0.72321060480397226},\n",
       " mean: 0.79971, std: 0.00206, params: {'colsample_bytree': 0.98378075770089013, 'gamma': 0.8964176718343374, 'learning_rate': 0.2904789182728667, 'max_delta_step': 0, 'max_depth': 10, 'min_child_weight': 1, 'n_estimators': 30, 'subsample': 0.91631865923383071},\n",
       " mean: 0.81044, std: 0.00164, params: {'colsample_bytree': 0.67966639353467073, 'gamma': 0.65478110229486541, 'learning_rate': 0.052313290872528451, 'max_delta_step': 0, 'max_depth': 21, 'min_child_weight': 1, 'n_estimators': 30, 'subsample': 0.78574234146061261},\n",
       " mean: 0.80731, std: 0.00110, params: {'colsample_bytree': 0.98224144927244006, 'gamma': 0.35709086512937099, 'learning_rate': 0.08342170960362226, 'max_delta_step': 2, 'max_depth': 29, 'min_child_weight': 1, 'n_estimators': 30, 'subsample': 0.91998277864072908},\n",
       " mean: 0.76902, std: 0.00225, params: {'colsample_bytree': 0.70880286059177544, 'gamma': 0.18294466099051543, 'learning_rate': 0.15964855437617509, 'max_delta_step': 3, 'max_depth': 6, 'min_child_weight': 4, 'n_estimators': 30, 'subsample': 0.86343399312521874},\n",
       " mean: 0.80907, std: 0.00114, params: {'colsample_bytree': 0.75338948780761461, 'gamma': 0.44161335771214583, 'learning_rate': 0.25828016577852719, 'max_delta_step': 0, 'max_depth': 18, 'min_child_weight': 2, 'n_estimators': 30, 'subsample': 0.72326725327875518},\n",
       " mean: 0.80569, std: 0.00027, params: {'colsample_bytree': 0.93814222680788584, 'gamma': 1.4907133149822336, 'learning_rate': 0.022995096880577284, 'max_delta_step': 4, 'max_depth': 24, 'min_child_weight': 2, 'n_estimators': 30, 'subsample': 0.89926693579628458},\n",
       " mean: 0.80919, std: 0.00211, params: {'colsample_bytree': 0.70746284081360589, 'gamma': 0.24529636808844107, 'learning_rate': 0.20053197295043396, 'max_delta_step': 1, 'max_depth': 27, 'min_child_weight': 4, 'n_estimators': 30, 'subsample': 0.79484522874861574},\n",
       " mean: 0.80732, std: 0.00155, params: {'colsample_bytree': 0.69942197591311617, 'gamma': 0.65914624343080375, 'learning_rate': 0.10332019885967124, 'max_delta_step': 2, 'max_depth': 15, 'min_child_weight': 4, 'n_estimators': 30, 'subsample': 0.80064286938347617},\n",
       " mean: 0.80891, std: 0.00102, params: {'colsample_bytree': 0.73208507038012327, 'gamma': 0.4580056740155044, 'learning_rate': 0.11344843039820225, 'max_delta_step': 3, 'max_depth': 29, 'min_child_weight': 4, 'n_estimators': 30, 'subsample': 0.79902929172768244},\n",
       " mean: 0.80547, std: 0.00077, params: {'colsample_bytree': 0.74642129917866418, 'gamma': 1.399854151292224, 'learning_rate': 0.058408621523926452, 'max_delta_step': 1, 'max_depth': 22, 'min_child_weight': 5, 'n_estimators': 30, 'subsample': 0.90337272074702946},\n",
       " mean: 0.79976, std: 0.00031, params: {'colsample_bytree': 0.81908734157573826, 'gamma': 0.87285705519484391, 'learning_rate': 0.054104290359003104, 'max_delta_step': 4, 'max_depth': 13, 'min_child_weight': 3, 'n_estimators': 30, 'subsample': 0.88942744163752363},\n",
       " mean: 0.80949, std: 0.00182, params: {'colsample_bytree': 0.79606646329466235, 'gamma': 1.0734846902877675, 'learning_rate': 0.071880538317517381, 'max_delta_step': 3, 'max_depth': 25, 'min_child_weight': 4, 'n_estimators': 30, 'subsample': 0.92814196686918993},\n",
       " mean: 0.80670, std: 0.00210, params: {'colsample_bytree': 0.9342783915704691, 'gamma': 0.11082761613230485, 'learning_rate': 0.29547960934199247, 'max_delta_step': 2, 'max_depth': 19, 'min_child_weight': 4, 'n_estimators': 30, 'subsample': 0.96547851963857179},\n",
       " mean: 0.75416, std: 0.00230, params: {'colsample_bytree': 0.81203149292334775, 'gamma': 0.19694542310821633, 'learning_rate': 0.070122721806029437, 'max_delta_step': 3, 'max_depth': 6, 'min_child_weight': 1, 'n_estimators': 30, 'subsample': 0.78749046758105268},\n",
       " mean: 0.77567, std: 0.00179, params: {'colsample_bytree': 0.98924456003158712, 'gamma': 0.40065332489837424, 'learning_rate': 0.03747754783116599, 'max_delta_step': 0, 'max_depth': 10, 'min_child_weight': 4, 'n_estimators': 30, 'subsample': 0.89082099167969164},\n",
       " mean: 0.80916, std: 0.00163, params: {'colsample_bytree': 0.66604496330269203, 'gamma': 0.60231236877906402, 'learning_rate': 0.22448857601678077, 'max_delta_step': 1, 'max_depth': 29, 'min_child_weight': 5, 'n_estimators': 30, 'subsample': 0.98749189404707416},\n",
       " mean: 0.78904, std: 0.00090, params: {'colsample_bytree': 0.84181718569859809, 'gamma': 1.2691480217923961, 'learning_rate': 0.015023663380453311, 'max_delta_step': 4, 'max_depth': 12, 'min_child_weight': 1, 'n_estimators': 30, 'subsample': 0.76084116588530504},\n",
       " mean: 0.80704, std: 0.00130, params: {'colsample_bytree': 0.74222338757877093, 'gamma': 1.2668389795439601, 'learning_rate': 0.065872631994628325, 'max_delta_step': 3, 'max_depth': 16, 'min_child_weight': 2, 'n_estimators': 30, 'subsample': 0.86170834597586921},\n",
       " mean: 0.80684, std: 0.00187, params: {'colsample_bytree': 0.91474602445051323, 'gamma': 0.92478097970338546, 'learning_rate': 0.22686189326323078, 'max_delta_step': 1, 'max_depth': 28, 'min_child_weight': 1, 'n_estimators': 30, 'subsample': 0.81042379101689588}]"
      ]
     },
     "execution_count": 11,
     "metadata": {},
     "output_type": "execute_result"
    }
   ],
   "source": [
    "gs.grid_scores_"
   ]
  },
  {
   "cell_type": "code",
   "execution_count": 10,
   "metadata": {},
   "outputs": [
    {
     "data": {
      "text/plain": [
       "{'colsample_bytree': 0.68738506797933363,\n",
       " 'gamma': 0.85954878935980927,\n",
       " 'learning_rate': 0.085255945780874087,\n",
       " 'max_delta_step': 2,\n",
       " 'max_depth': 28,\n",
       " 'min_child_weight': 2,\n",
       " 'n_estimators': 30,\n",
       " 'subsample': 0.82149813575904063}"
      ]
     },
     "execution_count": 10,
     "metadata": {},
     "output_type": "execute_result"
    }
   ],
   "source": [
    "gs.best_params_"
   ]
  },
  {
   "cell_type": "code",
   "execution_count": 14,
   "metadata": {
    "collapsed": true
   },
   "outputs": [],
   "source": [
    "best_model = XGBClassifier(\n",
    "    colsample_bytree = 0.68738506797933363,\n",
    "    gamma = 0.85954878935980927,\n",
    "    learning_rate = 0.085255945780874087,\n",
    "    max_depth = 28,\n",
    "    n_estimators = 200,\n",
    "    subsample = 0.82149813575904063,\n",
    "    min_child_weight = 2,\n",
    "    max_delta_step = 2,\n",
    "    n_jobs = -1\n",
    ")"
   ]
  },
  {
   "cell_type": "code",
   "execution_count": 15,
   "metadata": {
    "collapsed": true
   },
   "outputs": [],
   "source": [
    "best_model.fit(data.train_feature_df, data.train_outcome_df.iloc[:,0])\n",
    "prediction = best_model.predict(data.test_feature_df)\n",
    "result = pd.DataFrame(prediction).replace(to_replace = [2, 1, 0], \n",
    "                                          value = ['functional', 'functional needs repair', 'non functional'])\n",
    "result.to_csv('result.csv', sep='\\t', index = False)"
   ]
  },
  {
   "cell_type": "code",
   "execution_count": null,
   "metadata": {
    "collapsed": true
   },
   "outputs": [],
   "source": []
  },
  {
   "cell_type": "markdown",
   "metadata": {},
   "source": [
    "### Code chunk to (after getting the best parameters from CV) get accuracy rate on test dataset. This chunk is not used in later stage, because it is better to run CV on the whole dataset (ie. do not split data, because we want the best parameters for the data size of our final training dataset, not the best parameters for a smaller data size)."
   ]
  },
  {
   "cell_type": "code",
   "execution_count": null,
   "metadata": {
    "collapsed": true
   },
   "outputs": [],
   "source": [
    "best_model = XGBClassifier(\n",
    "    colsample_bytree = ,\n",
    "    gamma = ,\n",
    "    learning_rate = ,\n",
    "    max_depth = ,\n",
    "    n_estimators = ,\n",
    "    subsample = ,\n",
    "    min_child_weight = ,\n",
    "    max_delta_step = ,\n",
    "    n_jobs = -1\n",
    ")\n",
    "\n",
    "best_model.fit(X_train, y_train.iloc[:,0])\n",
    "\n",
    "prediction = best_model.predict(X_test)\n",
    "#pred_prob = best_model.predict_proba(X_test)\n",
    "\n",
    "metrics.accuracy_score(y_test.iloc[:,0], prediction)"
   ]
  },
  {
   "cell_type": "code",
   "execution_count": null,
   "metadata": {
    "collapsed": true
   },
   "outputs": [],
   "source": []
  },
  {
   "cell_type": "code",
   "execution_count": null,
   "metadata": {
    "collapsed": true
   },
   "outputs": [],
   "source": []
  },
  {
   "cell_type": "code",
   "execution_count": null,
   "metadata": {
    "collapsed": true
   },
   "outputs": [],
   "source": []
  },
  {
   "cell_type": "code",
   "execution_count": null,
   "metadata": {
    "collapsed": true
   },
   "outputs": [],
   "source": []
  },
  {
   "cell_type": "code",
   "execution_count": null,
   "metadata": {
    "collapsed": true
   },
   "outputs": [],
   "source": []
  },
  {
   "cell_type": "code",
   "execution_count": null,
   "metadata": {
    "collapsed": true
   },
   "outputs": [],
   "source": []
  },
  {
   "cell_type": "code",
   "execution_count": null,
   "metadata": {
    "collapsed": true
   },
   "outputs": [],
   "source": []
  },
  {
   "cell_type": "code",
   "execution_count": null,
   "metadata": {
    "collapsed": true
   },
   "outputs": [],
   "source": []
  },
  {
   "cell_type": "markdown",
   "metadata": {
    "collapsed": true
   },
   "source": [
    "### Past Attempt: Considering max_delta_step and min_child_weight (min_child_weight would still be the default)"
   ]
  },
  {
   "cell_type": "code",
   "execution_count": 16,
   "metadata": {},
   "outputs": [
    {
     "data": {
      "text/plain": [
       "{'colsample_bytree': 0.61191580388279143,\n",
       " 'gamma': 1.4471141227193951,\n",
       " 'learning_rate': 0.20586570183770209,\n",
       " 'max_delta_step': 3,\n",
       " 'max_depth': 27,\n",
       " 'min_child_weight': 1,\n",
       " 'n_estimators': 10,\n",
       " 'subsample': 0.86484481943790181}"
      ]
     },
     "execution_count": 16,
     "metadata": {},
     "output_type": "execute_result"
    }
   ],
   "source": [
    "# Considering max_delta_step and min_child_weight (min_child_weight would still be the default)\n",
    "gs.best_params_"
   ]
  },
  {
   "cell_type": "code",
   "execution_count": 17,
   "metadata": {},
   "outputs": [
    {
     "data": {
      "text/plain": [
       "0.80259457318280847"
      ]
     },
     "execution_count": 17,
     "metadata": {},
     "output_type": "execute_result"
    }
   ],
   "source": [
    "# Considering max_delta_step and min_child_weight \n",
    "gs.best_score_"
   ]
  },
  {
   "cell_type": "code",
   "execution_count": 19,
   "metadata": {},
   "outputs": [
    {
     "data": {
      "text/plain": [
       "XGBClassifier(base_score=0.5, booster='gbtree', colsample_bylevel=1,\n",
       "       colsample_bytree=0.6119158038827914, gamma=1.447114122719395,\n",
       "       learning_rate=0.2058657018377021, max_delta_step=3, max_depth=27,\n",
       "       min_child_weight=1, missing=None, n_estimators=50, n_jobs=1,\n",
       "       nthread=None, objective='multi:softprob', random_state=0,\n",
       "       reg_alpha=0, reg_lambda=1, scale_pos_weight=1, seed=None,\n",
       "       silent=True, subsample=0.8648448194379018)"
      ]
     },
     "execution_count": 19,
     "metadata": {},
     "output_type": "execute_result"
    }
   ],
   "source": [
    "# Considering max_delta_step and min_child_weight \n",
    "best_model.fit(X_train, y_train.iloc[:,0])"
   ]
  },
  {
   "cell_type": "code",
   "execution_count": 20,
   "metadata": {},
   "outputs": [
    {
     "data": {
      "text/plain": [
       "0.81459034792368124"
      ]
     },
     "execution_count": 20,
     "metadata": {},
     "output_type": "execute_result"
    }
   ],
   "source": [
    "# Considering max_delta_step and min_child_weight \n",
    "prediction = best_model.predict(X_test)\n",
    "metrics.accuracy_score(y_test.iloc[:,0], prediction)"
   ]
  },
  {
   "cell_type": "code",
   "execution_count": null,
   "metadata": {
    "collapsed": true
   },
   "outputs": [],
   "source": []
  },
  {
   "cell_type": "markdown",
   "metadata": {
    "collapsed": true
   },
   "source": [
    "### Past Attempt: Considering max_delta_step, not min_child_weight."
   ]
  },
  {
   "cell_type": "code",
   "execution_count": 118,
   "metadata": {},
   "outputs": [
    {
     "data": {
      "text/plain": [
       "{'colsample_bytree': 0.5088073970953898,\n",
       " 'gamma': 2.3440737331595054,\n",
       " 'learning_rate': 0.15135478088899137,\n",
       " 'max_delta_step': 2,\n",
       " 'max_depth': 31,\n",
       " 'n_estimators': 10,\n",
       " 'subsample': 0.96337604446426006}"
      ]
     },
     "execution_count": 118,
     "metadata": {},
     "output_type": "execute_result"
    }
   ],
   "source": [
    "# Considering max_delta_step\n",
    "gs.best_params_"
   ]
  },
  {
   "cell_type": "code",
   "execution_count": 119,
   "metadata": {},
   "outputs": [
    {
     "data": {
      "text/plain": [
       "0.80326797385620918"
      ]
     },
     "execution_count": 119,
     "metadata": {},
     "output_type": "execute_result"
    }
   ],
   "source": [
    "# Best score, considering max_delta_step\n",
    "gs.best_score_"
   ]
  },
  {
   "cell_type": "code",
   "execution_count": null,
   "metadata": {
    "collapsed": true
   },
   "outputs": [],
   "source": []
  },
  {
   "cell_type": "markdown",
   "metadata": {},
   "source": [
    "### Past Attempt: Considering neither max_delta_step, nor min_child_weight."
   ]
  },
  {
   "cell_type": "code",
   "execution_count": 77,
   "metadata": {},
   "outputs": [
    {
     "data": {
      "text/plain": [
       "{'colsample_bytree': 0.90974442109854226,\n",
       " 'gamma': 0.26863994012680026,\n",
       " 'learning_rate': 0.35447682135869291,\n",
       " 'max_depth': 30,\n",
       " 'n_estimators': 10,\n",
       " 'subsample': 0.82855724159824162}"
      ]
     },
     "execution_count": 77,
     "metadata": {},
     "output_type": "execute_result"
    }
   ],
   "source": [
    "# Without considering max_delta_step\n",
    "gs.best_params_"
   ]
  },
  {
   "cell_type": "code",
   "execution_count": 78,
   "metadata": {},
   "outputs": [
    {
     "data": {
      "text/plain": [
       "0.7987918399683106"
      ]
     },
     "execution_count": 78,
     "metadata": {},
     "output_type": "execute_result"
    }
   ],
   "source": [
    "# Best score, without considering max_delta_step\n",
    "gs.best_score_"
   ]
  },
  {
   "cell_type": "code",
   "execution_count": null,
   "metadata": {
    "collapsed": true
   },
   "outputs": [],
   "source": []
  },
  {
   "cell_type": "code",
   "execution_count": 122,
   "metadata": {
    "collapsed": true
   },
   "outputs": [],
   "source": []
  },
  {
   "cell_type": "code",
   "execution_count": 104,
   "metadata": {
    "collapsed": true
   },
   "outputs": [],
   "source": []
  },
  {
   "cell_type": "code",
   "execution_count": null,
   "metadata": {
    "collapsed": true
   },
   "outputs": [],
   "source": []
  },
  {
   "cell_type": "code",
   "execution_count": null,
   "metadata": {
    "collapsed": true
   },
   "outputs": [],
   "source": []
  },
  {
   "cell_type": "markdown",
   "metadata": {},
   "source": [
    "### Final model importance check"
   ]
  },
  {
   "cell_type": "code",
   "execution_count": 28,
   "metadata": {},
   "outputs": [
    {
     "data": {
      "text/plain": [
       "<matplotlib.text.Text at 0x26f0498be48>"
      ]
     },
     "execution_count": 28,
     "metadata": {},
     "output_type": "execute_result"
    },
    {
     "data": {
      "image/png": "[encoded data removed]",
      "text/plain": [
       "<matplotlib.figure.Figure at 0x26f04967f28>"
      ]
     },
     "metadata": {},
     "output_type": "display_data"
    }
   ],
   "source": [
    "import matplotlib.pylab as plt\n",
    "%matplotlib inline\n",
    "from matplotlib.pylab import rcParams\n",
    "rcParams['figure.figsize'] = 12, 4\n",
    "\n",
    "feat_imp = pd.Series(best_model._Booster.get_fscore()).sort_values(ascending=False)\n",
    "feat_imp.plot(kind='bar', title='Feature Importances')\n",
    "plt.ylabel('Feature Importance Score')"
   ]
  },
  {
   "cell_type": "code",
   "execution_count": 31,
   "metadata": {
    "scrolled": true
   },
   "outputs": [
    {
     "data": {
      "text/plain": [
       "longitude                                       13596\n",
       "latitude                                        12584\n",
       "gps_height                                       8140\n",
       "wpt_name_length                                  7399\n",
       "subvillage_freq                                  6798\n",
       "population                                       5503\n",
       "wpt_name_freq                                    5395\n",
       "subvillage_name_length                           5260\n",
       "ward_freq                                        4741\n",
       "created_day                                      4429\n",
       "created_dow                                      3096\n",
       "funder_freq                                      2980\n",
       "installer_freq                                   2615\n",
       "scheme_name_freq                                 2533\n",
       "construction_year                                2382\n",
       "ward_length                                      2363\n",
       "funder_length                                    2012\n",
       "scheme_name_length                               1957\n",
       "installer_length                                 1687\n",
       "age                                              1654\n",
       "amount_tsh                                       1240\n",
       "created_month                                    1017\n",
       "district_code                                    1009\n",
       "public_meeting                                    777\n",
       "quantity__enough                                  632\n",
       "region_code                                       608\n",
       "quantity__insufficient                            604\n",
       "permit                                            469\n",
       "payment__never_pay                                412\n",
       "water_quality__soft                               408\n",
       "                                                ...  \n",
       "subvillage_small_levels_grouped__majengo           32\n",
       "lga__uyui                                          32\n",
       "lga__mpanda                                        32\n",
       "basin__ruvuma_/_southern_coast                     32\n",
       "water_quality__fluoride                            32\n",
       "lga__arusha_rural                                  32\n",
       "lga__kilombero                                     31\n",
       "lga__same                                          31\n",
       "lga__kilolo                                        31\n",
       "lga__kwimba                                        31\n",
       "installer_small_levels_grouped__community          30\n",
       "region__mbeya                                      30\n",
       "lga__ukerewe                                       30\n",
       "region__arusha                                     30\n",
       "funder_small_levels_grouped__african               29\n",
       "lga__bagamoyo                                      29\n",
       "region__iringa                                     28\n",
       "region__lindi                                      28\n",
       "ward_small_levels_grouped__diongoya                28\n",
       "lga__urambo                                        28\n",
       "lga__biharamulo                                    28\n",
       "region__manyara                                    27\n",
       "lga__singida_rural                                 27\n",
       "scheme_management__other                           27\n",
       "lga__ngara                                         27\n",
       "lga__simanjiro                                     27\n",
       "installer_small_levels_grouped__twesa              27\n",
       "wpt_name_small_levels_grouped__umoja               26\n",
       "scheme_name_small_levels_grouped__n                26\n",
       "installer_small_levels_grouped__world_vision       25\n",
       "Length: 200, dtype: int64"
      ]
     },
     "execution_count": 31,
     "metadata": {},
     "output_type": "execute_result"
    }
   ],
   "source": [
    "feat_imp.head(200)"
   ]
  },
  {
   "cell_type": "code",
   "execution_count": null,
   "metadata": {
    "collapsed": true
   },
   "outputs": [],
   "source": []
  },
  {
   "cell_type": "code",
   "execution_count": null,
   "metadata": {
    "collapsed": true
   },
   "outputs": [],
   "source": []
  },
  {
   "cell_type": "code",
   "execution_count": null,
   "metadata": {
    "collapsed": true
   },
   "outputs": [],
   "source": []
  },
  {
   "cell_type": "code",
   "execution_count": null,
   "metadata": {
    "collapsed": true
   },
   "outputs": [],
   "source": []
  },
  {
   "cell_type": "code",
   "execution_count": null,
   "metadata": {
    "collapsed": true
   },
   "outputs": [],
   "source": []
  },
  {
   "cell_type": "code",
   "execution_count": null,
   "metadata": {
    "collapsed": true
   },
   "outputs": [],
   "source": []
  },
  {
   "cell_type": "code",
   "execution_count": null,
   "metadata": {
    "collapsed": true
   },
   "outputs": [],
   "source": []
  },
  {
   "cell_type": "code",
   "execution_count": null,
   "metadata": {
    "collapsed": true
   },
   "outputs": [],
   "source": []
  },
  {
   "cell_type": "markdown",
   "metadata": {
    "collapsed": true
   },
   "source": [
    "### To do list"
   ]
  },
  {
   "cell_type": "markdown",
   "metadata": {},
   "source": [
    "Done: Differencing between record year(date) and construction year\n",
    "\n",
    "Done: \"payment\" and \"payment_type\" are the same -- no need to do\n",
    "\n",
    "Done: After dummify, transpose, drop_duplicates on categorical range, and transpose back.\n",
    "\n",
    "Trim space\n",
    "\n",
    "Move month to draw a line right before the rain season\n",
    "\n",
    "Done: Set missing numeric values to zero?\n",
    "\n",
    "Done: Remove any col filled with homogeneous or nearly homogeneous data.GeoData Consultants Ltd was the sole group in recorded_by and hence removed.\n",
    "\n",
    "get_dummies(df_clean, drop_first = True)?\n",
    "\n",
    "Set weird values in numerical columns to NaN.\n",
    "\n",
    "scipy stat randint( ) <- make sure its meaning"
   ]
  },
  {
   "cell_type": "code",
   "execution_count": null,
   "metadata": {
    "collapsed": true
   },
   "outputs": [],
   "source": []
  }
 ],
 "metadata": {
  "kernelspec": {
   "display_name": "Python 3",
   "language": "python",
   "name": "python3"
  },
  "language_info": {
   "codemirror_mode": {
    "name": "ipython",
    "version": 3
   },
   "file_extension": ".py",
   "mimetype": "text/x-python",
   "name": "python",
   "nbconvert_exporter": "python",
   "pygments_lexer": "ipython3",
   "version": "3.6.2"
  }
 },
 "nbformat": 4,
 "nbformat_minor": 2
}
