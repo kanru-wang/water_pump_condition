{
 "cells": [
  {
   "cell_type": "code",
   "execution_count": 1,
   "metadata": {
    "collapsed": true
   },
   "outputs": [],
   "source": [
    "import pandas as pd\n",
    "import numpy as np\n",
    "#import copy\n",
    "\n",
    "import specifics\n",
    "import data\n",
    "\n",
    "#import xgboost\n",
    "from sklearn import metrics\n",
    "from sklearn.model_selection import train_test_split\n",
    "from sklearn.model_selection import RandomizedSearchCV\n",
    "#from sklearn.metrics import accuracy_score\n",
    "\n",
    "from xgboost.sklearn import XGBClassifier\n",
    "#from sklearn.pipeline import Pipeline\n",
    "#from sklearn.preprocessing import StandardScaler\n",
    "import scipy.stats as st # For parameter generation"
   ]
  },
  {
   "cell_type": "code",
   "execution_count": 2,
   "metadata": {
    "collapsed": true
   },
   "outputs": [],
   "source": [
    "%load_ext autoreload\n",
    "%autoreload 2"
   ]
  },
  {
   "cell_type": "code",
   "execution_count": 3,
   "metadata": {
    "collapsed": true
   },
   "outputs": [],
   "source": [
    "train_feature_dataset = pd.DataFrame.from_csv('dataset/traindata.csv')\n",
    "train_outcome_dataset = pd.DataFrame.from_csv('dataset/status_group.csv')\n",
    "test_feature_dataset = pd.DataFrame.from_csv('dataset/testdata.csv')"
   ]
  },
  {
   "cell_type": "code",
   "execution_count": 4,
   "metadata": {},
   "outputs": [
    {
     "data": {
      "text/plain": [
       "(59400, 39)"
      ]
     },
     "execution_count": 4,
     "metadata": {},
     "output_type": "execute_result"
    }
   ],
   "source": [
    "train_feature_dataset.shape"
   ]
  },
  {
   "cell_type": "code",
   "execution_count": 5,
   "metadata": {},
   "outputs": [
    {
     "name": "stdout",
     "output_type": "stream",
     "text": [
      "<class 'pandas.core.frame.DataFrame'>\n",
      "Int64Index: 59400 entries, 69572 to 26348\n",
      "Data columns (total 39 columns):\n",
      "amount_tsh               59400 non-null float64\n",
      "date_recorded            59400 non-null object\n",
      "funder                   55765 non-null object\n",
      "gps_height               59400 non-null int64\n",
      "installer                55745 non-null object\n",
      "longitude                59400 non-null float64\n",
      "latitude                 59400 non-null float64\n",
      "wpt_name                 59400 non-null object\n",
      "num_private              59400 non-null int64\n",
      "basin                    59400 non-null object\n",
      "subvillage               59029 non-null object\n",
      "region                   59400 non-null object\n",
      "region_code              59400 non-null int64\n",
      "district_code            59400 non-null int64\n",
      "lga                      59400 non-null object\n",
      "ward                     59400 non-null object\n",
      "population               59400 non-null int64\n",
      "public_meeting           56066 non-null object\n",
      "recorded_by              59400 non-null object\n",
      "scheme_management        55523 non-null object\n",
      "scheme_name              31234 non-null object\n",
      "permit                   56344 non-null object\n",
      "construction_year        59400 non-null int64\n",
      "extraction_type          59400 non-null object\n",
      "extraction_type_group    59400 non-null object\n",
      "extraction_type_class    59400 non-null object\n",
      "management               59400 non-null object\n",
      "management_group         59400 non-null object\n",
      "payment                  59400 non-null object\n",
      "payment_type             59400 non-null object\n",
      "water_quality            59400 non-null object\n",
      "quality_group            59400 non-null object\n",
      "quantity                 59400 non-null object\n",
      "quantity_group           59400 non-null object\n",
      "source                   59400 non-null object\n",
      "source_type              59400 non-null object\n",
      "source_class             59400 non-null object\n",
      "waterpoint_type          59400 non-null object\n",
      "waterpoint_type_group    59400 non-null object\n",
      "dtypes: float64(3), int64(6), object(30)\n",
      "memory usage: 18.1+ MB\n"
     ]
    }
   ],
   "source": [
    "train_feature_dataset.info()"
   ]
  },
  {
   "cell_type": "code",
   "execution_count": 6,
   "metadata": {
    "scrolled": false
   },
   "outputs": [
    {
     "data": {
      "text/html": [
       "<div>\n",
       "<style>\n",
       "    .dataframe thead tr:only-child th {\n",
       "        text-align: right;\n",
       "    }\n",
       "\n",
       "    .dataframe thead th {\n",
       "        text-align: left;\n",
       "    }\n",
       "\n",
       "    .dataframe tbody tr th {\n",
       "        vertical-align: top;\n",
       "    }\n",
       "</style>\n",
       "<table border=\"1\" class=\"dataframe\">\n",
       "  <thead>\n",
       "    <tr style=\"text-align: right;\">\n",
       "      <th></th>\n",
       "      <th>amount_tsh</th>\n",
       "      <th>date_recorded</th>\n",
       "      <th>funder</th>\n",
       "      <th>gps_height</th>\n",
       "      <th>installer</th>\n",
       "      <th>longitude</th>\n",
       "      <th>latitude</th>\n",
       "      <th>wpt_name</th>\n",
       "      <th>num_private</th>\n",
       "      <th>basin</th>\n",
       "      <th>subvillage</th>\n",
       "      <th>region</th>\n",
       "      <th>region_code</th>\n",
       "      <th>district_code</th>\n",
       "      <th>lga</th>\n",
       "      <th>ward</th>\n",
       "      <th>population</th>\n",
       "      <th>public_meeting</th>\n",
       "      <th>recorded_by</th>\n",
       "      <th>scheme_management</th>\n",
       "    </tr>\n",
       "    <tr>\n",
       "      <th>id</th>\n",
       "      <th></th>\n",
       "      <th></th>\n",
       "      <th></th>\n",
       "      <th></th>\n",
       "      <th></th>\n",
       "      <th></th>\n",
       "      <th></th>\n",
       "      <th></th>\n",
       "      <th></th>\n",
       "      <th></th>\n",
       "      <th></th>\n",
       "      <th></th>\n",
       "      <th></th>\n",
       "      <th></th>\n",
       "      <th></th>\n",
       "      <th></th>\n",
       "      <th></th>\n",
       "      <th></th>\n",
       "      <th></th>\n",
       "      <th></th>\n",
       "    </tr>\n",
       "  </thead>\n",
       "  <tbody>\n",
       "    <tr>\n",
       "      <th>69572</th>\n",
       "      <td>6000.0</td>\n",
       "      <td>2011-03-14</td>\n",
       "      <td>Roman</td>\n",
       "      <td>1390</td>\n",
       "      <td>Roman</td>\n",
       "      <td>34.938093</td>\n",
       "      <td>-9.856322</td>\n",
       "      <td>none</td>\n",
       "      <td>0</td>\n",
       "      <td>Lake Nyasa</td>\n",
       "      <td>Mnyusi B</td>\n",
       "      <td>Iringa</td>\n",
       "      <td>11</td>\n",
       "      <td>5</td>\n",
       "      <td>Ludewa</td>\n",
       "      <td>Mundindi</td>\n",
       "      <td>109</td>\n",
       "      <td>True</td>\n",
       "      <td>GeoData Consultants Ltd</td>\n",
       "      <td>VWC</td>\n",
       "    </tr>\n",
       "    <tr>\n",
       "      <th>8776</th>\n",
       "      <td>0.0</td>\n",
       "      <td>2013-03-06</td>\n",
       "      <td>Grumeti</td>\n",
       "      <td>1399</td>\n",
       "      <td>GRUMETI</td>\n",
       "      <td>34.698766</td>\n",
       "      <td>-2.147466</td>\n",
       "      <td>Zahanati</td>\n",
       "      <td>0</td>\n",
       "      <td>Lake Victoria</td>\n",
       "      <td>Nyamara</td>\n",
       "      <td>Mara</td>\n",
       "      <td>20</td>\n",
       "      <td>2</td>\n",
       "      <td>Serengeti</td>\n",
       "      <td>Natta</td>\n",
       "      <td>280</td>\n",
       "      <td>NaN</td>\n",
       "      <td>GeoData Consultants Ltd</td>\n",
       "      <td>Other</td>\n",
       "    </tr>\n",
       "    <tr>\n",
       "      <th>34310</th>\n",
       "      <td>25.0</td>\n",
       "      <td>2013-02-25</td>\n",
       "      <td>Lottery Club</td>\n",
       "      <td>686</td>\n",
       "      <td>World vision</td>\n",
       "      <td>37.460664</td>\n",
       "      <td>-3.821329</td>\n",
       "      <td>Kwa Mahundi</td>\n",
       "      <td>0</td>\n",
       "      <td>Pangani</td>\n",
       "      <td>Majengo</td>\n",
       "      <td>Manyara</td>\n",
       "      <td>21</td>\n",
       "      <td>4</td>\n",
       "      <td>Simanjiro</td>\n",
       "      <td>Ngorika</td>\n",
       "      <td>250</td>\n",
       "      <td>True</td>\n",
       "      <td>GeoData Consultants Ltd</td>\n",
       "      <td>VWC</td>\n",
       "    </tr>\n",
       "    <tr>\n",
       "      <th>67743</th>\n",
       "      <td>0.0</td>\n",
       "      <td>2013-01-28</td>\n",
       "      <td>Unicef</td>\n",
       "      <td>263</td>\n",
       "      <td>UNICEF</td>\n",
       "      <td>38.486161</td>\n",
       "      <td>-11.155298</td>\n",
       "      <td>Zahanati Ya Nanyumbu</td>\n",
       "      <td>0</td>\n",
       "      <td>Ruvuma / Southern Coast</td>\n",
       "      <td>Mahakamani</td>\n",
       "      <td>Mtwara</td>\n",
       "      <td>90</td>\n",
       "      <td>63</td>\n",
       "      <td>Nanyumbu</td>\n",
       "      <td>Nanyumbu</td>\n",
       "      <td>58</td>\n",
       "      <td>True</td>\n",
       "      <td>GeoData Consultants Ltd</td>\n",
       "      <td>VWC</td>\n",
       "    </tr>\n",
       "    <tr>\n",
       "      <th>19728</th>\n",
       "      <td>0.0</td>\n",
       "      <td>2011-07-13</td>\n",
       "      <td>Action In A</td>\n",
       "      <td>0</td>\n",
       "      <td>Artisan</td>\n",
       "      <td>31.130847</td>\n",
       "      <td>-1.825359</td>\n",
       "      <td>Shuleni</td>\n",
       "      <td>0</td>\n",
       "      <td>Lake Victoria</td>\n",
       "      <td>Kyanyamisa</td>\n",
       "      <td>Kagera</td>\n",
       "      <td>18</td>\n",
       "      <td>1</td>\n",
       "      <td>Karagwe</td>\n",
       "      <td>Nyakasimbi</td>\n",
       "      <td>0</td>\n",
       "      <td>True</td>\n",
       "      <td>GeoData Consultants Ltd</td>\n",
       "      <td>NaN</td>\n",
       "    </tr>\n",
       "  </tbody>\n",
       "</table>\n",
       "</div>"
      ],
      "text/plain": [
       "       amount_tsh date_recorded        funder  gps_height     installer  \\\n",
       "id                                                                        \n",
       "69572      6000.0    2011-03-14         Roman        1390         Roman   \n",
       "8776          0.0    2013-03-06       Grumeti        1399       GRUMETI   \n",
       "34310        25.0    2013-02-25  Lottery Club         686  World vision   \n",
       "67743         0.0    2013-01-28        Unicef         263        UNICEF   \n",
       "19728         0.0    2011-07-13   Action In A           0       Artisan   \n",
       "\n",
       "       longitude   latitude              wpt_name  num_private  \\\n",
       "id                                                               \n",
       "69572  34.938093  -9.856322                  none            0   \n",
       "8776   34.698766  -2.147466              Zahanati            0   \n",
       "34310  37.460664  -3.821329           Kwa Mahundi            0   \n",
       "67743  38.486161 -11.155298  Zahanati Ya Nanyumbu            0   \n",
       "19728  31.130847  -1.825359               Shuleni            0   \n",
       "\n",
       "                         basin  subvillage   region  region_code  \\\n",
       "id                                                                 \n",
       "69572               Lake Nyasa    Mnyusi B   Iringa           11   \n",
       "8776             Lake Victoria     Nyamara     Mara           20   \n",
       "34310                  Pangani     Majengo  Manyara           21   \n",
       "67743  Ruvuma / Southern Coast  Mahakamani   Mtwara           90   \n",
       "19728            Lake Victoria  Kyanyamisa   Kagera           18   \n",
       "\n",
       "       district_code        lga        ward  population public_meeting  \\\n",
       "id                                                                       \n",
       "69572              5     Ludewa    Mundindi         109           True   \n",
       "8776               2  Serengeti       Natta         280            NaN   \n",
       "34310              4  Simanjiro     Ngorika         250           True   \n",
       "67743             63   Nanyumbu    Nanyumbu          58           True   \n",
       "19728              1    Karagwe  Nyakasimbi           0           True   \n",
       "\n",
       "                   recorded_by scheme_management  \n",
       "id                                                \n",
       "69572  GeoData Consultants Ltd               VWC  \n",
       "8776   GeoData Consultants Ltd             Other  \n",
       "34310  GeoData Consultants Ltd               VWC  \n",
       "67743  GeoData Consultants Ltd               VWC  \n",
       "19728  GeoData Consultants Ltd               NaN  "
      ]
     },
     "execution_count": 6,
     "metadata": {},
     "output_type": "execute_result"
    }
   ],
   "source": [
    "train_feature_dataset.head(5).iloc[:,0:20]"
   ]
  },
  {
   "cell_type": "code",
   "execution_count": 7,
   "metadata": {
    "scrolled": false
   },
   "outputs": [
    {
     "data": {
      "text/html": [
       "<div>\n",
       "<style>\n",
       "    .dataframe thead tr:only-child th {\n",
       "        text-align: right;\n",
       "    }\n",
       "\n",
       "    .dataframe thead th {\n",
       "        text-align: left;\n",
       "    }\n",
       "\n",
       "    .dataframe tbody tr th {\n",
       "        vertical-align: top;\n",
       "    }\n",
       "</style>\n",
       "<table border=\"1\" class=\"dataframe\">\n",
       "  <thead>\n",
       "    <tr style=\"text-align: right;\">\n",
       "      <th></th>\n",
       "      <th>scheme_name</th>\n",
       "      <th>permit</th>\n",
       "      <th>construction_year</th>\n",
       "      <th>extraction_type</th>\n",
       "      <th>extraction_type_group</th>\n",
       "      <th>extraction_type_class</th>\n",
       "      <th>management</th>\n",
       "      <th>management_group</th>\n",
       "      <th>payment</th>\n",
       "      <th>payment_type</th>\n",
       "      <th>water_quality</th>\n",
       "      <th>quality_group</th>\n",
       "      <th>quantity</th>\n",
       "      <th>quantity_group</th>\n",
       "      <th>source</th>\n",
       "      <th>source_type</th>\n",
       "      <th>source_class</th>\n",
       "      <th>waterpoint_type</th>\n",
       "      <th>waterpoint_type_group</th>\n",
       "    </tr>\n",
       "    <tr>\n",
       "      <th>id</th>\n",
       "      <th></th>\n",
       "      <th></th>\n",
       "      <th></th>\n",
       "      <th></th>\n",
       "      <th></th>\n",
       "      <th></th>\n",
       "      <th></th>\n",
       "      <th></th>\n",
       "      <th></th>\n",
       "      <th></th>\n",
       "      <th></th>\n",
       "      <th></th>\n",
       "      <th></th>\n",
       "      <th></th>\n",
       "      <th></th>\n",
       "      <th></th>\n",
       "      <th></th>\n",
       "      <th></th>\n",
       "      <th></th>\n",
       "    </tr>\n",
       "  </thead>\n",
       "  <tbody>\n",
       "    <tr>\n",
       "      <th>69572</th>\n",
       "      <td>Roman</td>\n",
       "      <td>False</td>\n",
       "      <td>1999</td>\n",
       "      <td>gravity</td>\n",
       "      <td>gravity</td>\n",
       "      <td>gravity</td>\n",
       "      <td>vwc</td>\n",
       "      <td>user-group</td>\n",
       "      <td>pay annually</td>\n",
       "      <td>annually</td>\n",
       "      <td>soft</td>\n",
       "      <td>good</td>\n",
       "      <td>enough</td>\n",
       "      <td>enough</td>\n",
       "      <td>spring</td>\n",
       "      <td>spring</td>\n",
       "      <td>groundwater</td>\n",
       "      <td>communal standpipe</td>\n",
       "      <td>communal standpipe</td>\n",
       "    </tr>\n",
       "    <tr>\n",
       "      <th>8776</th>\n",
       "      <td>NaN</td>\n",
       "      <td>True</td>\n",
       "      <td>2010</td>\n",
       "      <td>gravity</td>\n",
       "      <td>gravity</td>\n",
       "      <td>gravity</td>\n",
       "      <td>wug</td>\n",
       "      <td>user-group</td>\n",
       "      <td>never pay</td>\n",
       "      <td>never pay</td>\n",
       "      <td>soft</td>\n",
       "      <td>good</td>\n",
       "      <td>insufficient</td>\n",
       "      <td>insufficient</td>\n",
       "      <td>rainwater harvesting</td>\n",
       "      <td>rainwater harvesting</td>\n",
       "      <td>surface</td>\n",
       "      <td>communal standpipe</td>\n",
       "      <td>communal standpipe</td>\n",
       "    </tr>\n",
       "    <tr>\n",
       "      <th>34310</th>\n",
       "      <td>Nyumba ya mungu pipe scheme</td>\n",
       "      <td>True</td>\n",
       "      <td>2009</td>\n",
       "      <td>gravity</td>\n",
       "      <td>gravity</td>\n",
       "      <td>gravity</td>\n",
       "      <td>vwc</td>\n",
       "      <td>user-group</td>\n",
       "      <td>pay per bucket</td>\n",
       "      <td>per bucket</td>\n",
       "      <td>soft</td>\n",
       "      <td>good</td>\n",
       "      <td>enough</td>\n",
       "      <td>enough</td>\n",
       "      <td>dam</td>\n",
       "      <td>dam</td>\n",
       "      <td>surface</td>\n",
       "      <td>communal standpipe multiple</td>\n",
       "      <td>communal standpipe</td>\n",
       "    </tr>\n",
       "    <tr>\n",
       "      <th>67743</th>\n",
       "      <td>NaN</td>\n",
       "      <td>True</td>\n",
       "      <td>1986</td>\n",
       "      <td>submersible</td>\n",
       "      <td>submersible</td>\n",
       "      <td>submersible</td>\n",
       "      <td>vwc</td>\n",
       "      <td>user-group</td>\n",
       "      <td>never pay</td>\n",
       "      <td>never pay</td>\n",
       "      <td>soft</td>\n",
       "      <td>good</td>\n",
       "      <td>dry</td>\n",
       "      <td>dry</td>\n",
       "      <td>machine dbh</td>\n",
       "      <td>borehole</td>\n",
       "      <td>groundwater</td>\n",
       "      <td>communal standpipe multiple</td>\n",
       "      <td>communal standpipe</td>\n",
       "    </tr>\n",
       "    <tr>\n",
       "      <th>19728</th>\n",
       "      <td>NaN</td>\n",
       "      <td>True</td>\n",
       "      <td>0</td>\n",
       "      <td>gravity</td>\n",
       "      <td>gravity</td>\n",
       "      <td>gravity</td>\n",
       "      <td>other</td>\n",
       "      <td>other</td>\n",
       "      <td>never pay</td>\n",
       "      <td>never pay</td>\n",
       "      <td>soft</td>\n",
       "      <td>good</td>\n",
       "      <td>seasonal</td>\n",
       "      <td>seasonal</td>\n",
       "      <td>rainwater harvesting</td>\n",
       "      <td>rainwater harvesting</td>\n",
       "      <td>surface</td>\n",
       "      <td>communal standpipe</td>\n",
       "      <td>communal standpipe</td>\n",
       "    </tr>\n",
       "  </tbody>\n",
       "</table>\n",
       "</div>"
      ],
      "text/plain": [
       "                       scheme_name permit  construction_year extraction_type  \\\n",
       "id                                                                             \n",
       "69572                        Roman  False               1999         gravity   \n",
       "8776                           NaN   True               2010         gravity   \n",
       "34310  Nyumba ya mungu pipe scheme   True               2009         gravity   \n",
       "67743                          NaN   True               1986     submersible   \n",
       "19728                          NaN   True                  0         gravity   \n",
       "\n",
       "      extraction_type_group extraction_type_class management management_group  \\\n",
       "id                                                                              \n",
       "69572               gravity               gravity        vwc       user-group   \n",
       "8776                gravity               gravity        wug       user-group   \n",
       "34310               gravity               gravity        vwc       user-group   \n",
       "67743           submersible           submersible        vwc       user-group   \n",
       "19728               gravity               gravity      other            other   \n",
       "\n",
       "              payment payment_type water_quality quality_group      quantity  \\\n",
       "id                                                                             \n",
       "69572    pay annually     annually          soft          good        enough   \n",
       "8776        never pay    never pay          soft          good  insufficient   \n",
       "34310  pay per bucket   per bucket          soft          good        enough   \n",
       "67743       never pay    never pay          soft          good           dry   \n",
       "19728       never pay    never pay          soft          good      seasonal   \n",
       "\n",
       "      quantity_group                source           source_type source_class  \\\n",
       "id                                                                              \n",
       "69572         enough                spring                spring  groundwater   \n",
       "8776    insufficient  rainwater harvesting  rainwater harvesting      surface   \n",
       "34310         enough                   dam                   dam      surface   \n",
       "67743            dry           machine dbh              borehole  groundwater   \n",
       "19728       seasonal  rainwater harvesting  rainwater harvesting      surface   \n",
       "\n",
       "                   waterpoint_type waterpoint_type_group  \n",
       "id                                                        \n",
       "69572           communal standpipe    communal standpipe  \n",
       "8776            communal standpipe    communal standpipe  \n",
       "34310  communal standpipe multiple    communal standpipe  \n",
       "67743  communal standpipe multiple    communal standpipe  \n",
       "19728           communal standpipe    communal standpipe  "
      ]
     },
     "execution_count": 7,
     "metadata": {},
     "output_type": "execute_result"
    }
   ],
   "source": [
    "train_feature_dataset.head(5).iloc[:,20:40]"
   ]
  },
  {
   "cell_type": "code",
   "execution_count": 4,
   "metadata": {
    "collapsed": true
   },
   "outputs": [],
   "source": [
    "data = specifics.build_data(train_feature_df = train_feature_dataset, \n",
    "                            train_outcome_df = train_outcome_dataset, \n",
    "                            test_feature_df = test_feature_dataset)"
   ]
  },
  {
   "cell_type": "code",
   "execution_count": 9,
   "metadata": {},
   "outputs": [
    {
     "data": {
      "text/plain": [
       "(59400, 267)"
      ]
     },
     "execution_count": 9,
     "metadata": {},
     "output_type": "execute_result"
    }
   ],
   "source": [
    "data.train_feature_df.shape"
   ]
  },
  {
   "cell_type": "code",
   "execution_count": 10,
   "metadata": {},
   "outputs": [
    {
     "data": {
      "text/plain": [
       "(14850, 267)"
      ]
     },
     "execution_count": 10,
     "metadata": {},
     "output_type": "execute_result"
    }
   ],
   "source": [
    "data.test_feature_df.shape"
   ]
  },
  {
   "cell_type": "code",
   "execution_count": 11,
   "metadata": {
    "scrolled": true
   },
   "outputs": [
    {
     "data": {
      "text/plain": [
       "['amount_tsh',\n",
       " 'gps_height',\n",
       " 'longitude',\n",
       " 'latitude',\n",
       " 'num_private',\n",
       " 'region_code',\n",
       " 'district_code',\n",
       " 'population',\n",
       " 'public_meeting',\n",
       " 'permit',\n",
       " 'construction_year',\n",
       " 'created_day',\n",
       " 'created_dow',\n",
       " 'created_month',\n",
       " 'created_year',\n",
       " 'age',\n",
       " 'basin__internal',\n",
       " 'basin__lake_nyasa',\n",
       " 'basin__lake_rukwa',\n",
       " 'basin__lake_tanganyika',\n",
       " 'basin__lake_victoria',\n",
       " 'basin__pangani',\n",
       " 'basin__rufiji',\n",
       " 'basin__ruvuma_/_southern_coast',\n",
       " 'basin__wami_/_ruvu',\n",
       " 'region__arusha',\n",
       " 'region__dar_es_salaam',\n",
       " 'region__dodoma',\n",
       " 'region__iringa',\n",
       " 'region__kagera',\n",
       " 'region__kigoma',\n",
       " 'region__kilimanjaro',\n",
       " 'region__lindi',\n",
       " 'region__manyara',\n",
       " 'region__mara',\n",
       " 'region__mbeya',\n",
       " 'region__morogoro',\n",
       " 'region__mtwara',\n",
       " 'region__mwanza',\n",
       " 'region__pwani',\n",
       " 'region__rukwa',\n",
       " 'region__ruvuma',\n",
       " 'region__shinyanga',\n",
       " 'region__singida',\n",
       " 'region__tabora',\n",
       " 'region__tanga',\n",
       " 'lga__arusha_rural',\n",
       " 'lga__arusha_urban',\n",
       " 'lga__babati',\n",
       " 'lga__bagamoyo',\n",
       " 'lga__bahi',\n",
       " 'lga__bariadi',\n",
       " 'lga__biharamulo',\n",
       " 'lga__bukoba_rural',\n",
       " 'lga__bukoba_urban',\n",
       " 'lga__bukombe',\n",
       " 'lga__bunda',\n",
       " 'lga__chamwino',\n",
       " 'lga__chato',\n",
       " 'lga__chunya',\n",
       " 'lga__dodoma_urban',\n",
       " 'lga__geita',\n",
       " 'lga__hai',\n",
       " 'lga__hanang',\n",
       " 'lga__handeni',\n",
       " 'lga__igunga',\n",
       " 'lga__ilala',\n",
       " 'lga__ileje',\n",
       " 'lga__ilemela',\n",
       " 'lga__iramba',\n",
       " 'lga__iringa_rural',\n",
       " 'lga__kahama',\n",
       " 'lga__karagwe',\n",
       " 'lga__karatu',\n",
       " 'lga__kasulu',\n",
       " 'lga__kibaha',\n",
       " 'lga__kibondo',\n",
       " 'lga__kigoma_rural',\n",
       " 'lga__kigoma_urban',\n",
       " 'lga__kilindi',\n",
       " 'lga__kilolo',\n",
       " 'lga__kilombero',\n",
       " 'lga__kilosa',\n",
       " 'lga__kilwa',\n",
       " 'lga__kinondoni',\n",
       " 'lga__kisarawe',\n",
       " 'lga__kishapu',\n",
       " 'lga__kiteto',\n",
       " 'lga__kondoa',\n",
       " 'lga__kongwa',\n",
       " 'lga__korogwe',\n",
       " 'lga__kwimba',\n",
       " 'lga__kyela',\n",
       " 'lga__lindi_rural',\n",
       " 'lga__lindi_urban',\n",
       " 'lga__liwale',\n",
       " 'lga__longido',\n",
       " 'lga__ludewa',\n",
       " 'lga__lushoto',\n",
       " 'lga__mafia',\n",
       " 'lga__magu',\n",
       " 'lga__makete',\n",
       " 'lga__manyoni',\n",
       " 'lga__masasi',\n",
       " 'lga__maswa',\n",
       " 'lga__mbarali',\n",
       " 'lga__mbeya_rural',\n",
       " 'lga__mbinga',\n",
       " 'lga__mbozi',\n",
       " 'lga__mbulu',\n",
       " 'lga__meatu',\n",
       " 'lga__meru',\n",
       " 'lga__misenyi',\n",
       " 'lga__missungwi',\n",
       " 'lga__mkinga',\n",
       " 'lga__mkuranga',\n",
       " 'lga__monduli',\n",
       " 'lga__morogoro_rural',\n",
       " 'lga__morogoro_urban',\n",
       " 'lga__moshi_rural',\n",
       " 'lga__moshi_urban',\n",
       " 'lga__mpanda',\n",
       " 'lga__mpwapwa',\n",
       " 'lga__mtwara_rural',\n",
       " 'lga__mtwara_urban',\n",
       " 'lga__mufindi',\n",
       " 'lga__muheza',\n",
       " 'lga__muleba',\n",
       " 'lga__musoma_rural',\n",
       " 'lga__mvomero',\n",
       " 'lga__mwanga',\n",
       " 'lga__nachingwea',\n",
       " 'lga__namtumbo',\n",
       " 'lga__nanyumbu',\n",
       " 'lga__newala',\n",
       " 'lga__ngara',\n",
       " 'lga__ngorongoro',\n",
       " 'lga__njombe',\n",
       " 'lga__nkasi',\n",
       " 'lga__nyamagana',\n",
       " 'lga__nzega',\n",
       " 'lga__pangani',\n",
       " 'lga__rombo',\n",
       " 'lga__rorya',\n",
       " 'lga__ruangwa',\n",
       " 'lga__rufiji',\n",
       " 'lga__rungwe',\n",
       " 'lga__same',\n",
       " 'lga__sengerema',\n",
       " 'lga__serengeti',\n",
       " 'lga__shinyanga_rural',\n",
       " 'lga__shinyanga_urban',\n",
       " 'lga__siha',\n",
       " 'lga__sikonge',\n",
       " 'lga__simanjiro',\n",
       " 'lga__singida_rural',\n",
       " 'lga__singida_urban',\n",
       " 'lga__songea_rural',\n",
       " 'lga__songea_urban',\n",
       " 'lga__sumbawanga_rural',\n",
       " 'lga__sumbawanga_urban',\n",
       " 'lga__tabora_urban',\n",
       " 'lga__tandahimba',\n",
       " 'lga__tanga',\n",
       " 'lga__tarime',\n",
       " 'lga__temeke',\n",
       " 'lga__tunduru',\n",
       " 'lga__ukerewe',\n",
       " 'lga__ulanga',\n",
       " 'lga__urambo',\n",
       " 'lga__uyui',\n",
       " 'scheme_management__company',\n",
       " 'scheme_management__none',\n",
       " 'scheme_management__other',\n",
       " 'scheme_management__parastatal',\n",
       " 'scheme_management__private_operator',\n",
       " 'scheme_management__swc',\n",
       " 'scheme_management__trust',\n",
       " 'scheme_management__undefined',\n",
       " 'scheme_management__vwc',\n",
       " 'scheme_management__water_authority',\n",
       " 'scheme_management__water_board',\n",
       " 'scheme_management__wua',\n",
       " 'scheme_management__wug',\n",
       " 'extraction_type__afridev',\n",
       " 'extraction_type__cemo',\n",
       " 'extraction_type__climax',\n",
       " 'extraction_type__gravity',\n",
       " 'extraction_type__india_mark_ii',\n",
       " 'extraction_type__india_mark_iii',\n",
       " 'extraction_type__ksb',\n",
       " 'extraction_type__mono',\n",
       " 'extraction_type__nira/tanira',\n",
       " 'extraction_type__other',\n",
       " 'extraction_type__other___mkulima/shinyanga',\n",
       " 'extraction_type__other___play_pump',\n",
       " 'extraction_type__other___rope_pump',\n",
       " 'extraction_type__other___swn_81',\n",
       " 'extraction_type__submersible',\n",
       " 'extraction_type__swn_80',\n",
       " 'extraction_type__walimi',\n",
       " 'extraction_type__windmill',\n",
       " 'extraction_type_group__other_handpump',\n",
       " 'extraction_type_group__other_motorpump',\n",
       " 'extraction_type_group__submersible',\n",
       " 'extraction_type_class__handpump',\n",
       " 'extraction_type_class__motorpump',\n",
       " 'management__company',\n",
       " 'management__other',\n",
       " 'management__other___school',\n",
       " 'management__parastatal',\n",
       " 'management__private_operator',\n",
       " 'management__trust',\n",
       " 'management__unknown',\n",
       " 'management__vwc',\n",
       " 'management__water_authority',\n",
       " 'management__water_board',\n",
       " 'management__wua',\n",
       " 'management__wug',\n",
       " 'management_group__commercial',\n",
       " 'management_group__other',\n",
       " 'management_group__user_group',\n",
       " 'payment__never_pay',\n",
       " 'payment__other',\n",
       " 'payment__pay_annually',\n",
       " 'payment__pay_monthly',\n",
       " 'payment__pay_per_bucket',\n",
       " 'payment__pay_when_scheme_fails',\n",
       " 'payment__unknown',\n",
       " 'water_quality__coloured',\n",
       " 'water_quality__fluoride',\n",
       " 'water_quality__fluoride_abandoned',\n",
       " 'water_quality__milky',\n",
       " 'water_quality__salty',\n",
       " 'water_quality__salty_abandoned',\n",
       " 'water_quality__soft',\n",
       " 'water_quality__unknown',\n",
       " 'quality_group__fluoride',\n",
       " 'quality_group__salty',\n",
       " 'quantity__dry',\n",
       " 'quantity__enough',\n",
       " 'quantity__insufficient',\n",
       " 'quantity__seasonal',\n",
       " 'quantity__unknown',\n",
       " 'source__dam',\n",
       " 'source__hand_dtw',\n",
       " 'source__lake',\n",
       " 'source__machine_dbh',\n",
       " 'source__other',\n",
       " 'source__rainwater_harvesting',\n",
       " 'source__river',\n",
       " 'source__shallow_well',\n",
       " 'source__spring',\n",
       " 'source__unknown',\n",
       " 'source_type__borehole',\n",
       " 'source_type__other',\n",
       " 'source_type__river/lake',\n",
       " 'source_class__groundwater',\n",
       " 'source_class__surface',\n",
       " 'waterpoint_type__cattle_trough',\n",
       " 'waterpoint_type__communal_standpipe',\n",
       " 'waterpoint_type__communal_standpipe_multiple',\n",
       " 'waterpoint_type__dam',\n",
       " 'waterpoint_type__hand_pump',\n",
       " 'waterpoint_type__improved_spring',\n",
       " 'waterpoint_type__other',\n",
       " 'waterpoint_type_group__communal_standpipe']"
      ]
     },
     "execution_count": 11,
     "metadata": {},
     "output_type": "execute_result"
    }
   ],
   "source": [
    "#pd.set_option('display.max_rows', 3000)\n",
    "list(data.train_feature_df.columns.values)[0:3000]"
   ]
  },
  {
   "cell_type": "code",
   "execution_count": 5,
   "metadata": {
    "collapsed": true
   },
   "outputs": [],
   "source": [
    "assert sum(data.train_feature_df.index == data.train_outcome_df.index) == len(data.train_feature_df)"
   ]
  },
  {
   "cell_type": "code",
   "execution_count": 5,
   "metadata": {
    "collapsed": true
   },
   "outputs": [],
   "source": [
    "X_train, X_test, y_train, y_test = train_test_split(data.train_feature_df, data.train_outcome_df, \n",
    "                                                    test_size=0.15, random_state=42)"
   ]
  },
  {
   "cell_type": "code",
   "execution_count": null,
   "metadata": {
    "collapsed": true
   },
   "outputs": [],
   "source": []
  },
  {
   "cell_type": "markdown",
   "metadata": {},
   "source": [
    "## Oversampling the minority class: 'functional needs repair'"
   ]
  },
  {
   "cell_type": "code",
   "execution_count": 7,
   "metadata": {},
   "outputs": [
    {
     "data": {
      "text/plain": [
       "2    27418\n",
       "0    19390\n",
       "1     3682\n",
       "Name: status_group, dtype: int64"
      ]
     },
     "execution_count": 7,
     "metadata": {},
     "output_type": "execute_result"
    }
   ],
   "source": [
    "# Remember ['functional', 'functional needs repair', 'non functional'] is respectively [2, 1, 0]\n",
    "y_train['status_group'].value_counts()"
   ]
  },
  {
   "cell_type": "code",
   "execution_count": 6,
   "metadata": {
    "collapsed": true
   },
   "outputs": [],
   "source": [
    "from copy import deepcopy\n",
    "train_minority_group_index = deepcopy(y_train[y_train.iloc[:,0] == 1])"
   ]
  },
  {
   "cell_type": "code",
   "execution_count": 7,
   "metadata": {
    "collapsed": true
   },
   "outputs": [],
   "source": [
    "train_minority_group_X_y_combined = X_train.join(train_minority_group_index, how='inner')"
   ]
  },
  {
   "cell_type": "code",
   "execution_count": 8,
   "metadata": {},
   "outputs": [
    {
     "data": {
      "text/plain": [
       "(3682, 268)"
      ]
     },
     "execution_count": 8,
     "metadata": {},
     "output_type": "execute_result"
    }
   ],
   "source": [
    "train_minority_group_X_y_combined.shape"
   ]
  },
  {
   "cell_type": "code",
   "execution_count": 9,
   "metadata": {
    "collapsed": true
   },
   "outputs": [],
   "source": [
    "length = train_minority_group_X_y_combined.shape[0]"
   ]
  },
  {
   "cell_type": "code",
   "execution_count": 10,
   "metadata": {
    "collapsed": true
   },
   "outputs": [],
   "source": [
    "train_minority_group_X_y_combined_combined = pd.concat([train_minority_group_X_y_combined,\n",
    "                                                       #train_minority_group_X_y_combined,\n",
    "                                                       train_minority_group_X_y_combined], ignore_index=True)\n",
    "train_minority_group_X_y_combined_combined['index'] = list(range(100000, 100000 + length * 2))\n",
    "train_minority_group_X_y_combined_combined.set_index('index', inplace = True)"
   ]
  },
  {
   "cell_type": "code",
   "execution_count": 11,
   "metadata": {},
   "outputs": [
    {
     "data": {
      "text/plain": [
       "(7364, 268)"
      ]
     },
     "execution_count": 11,
     "metadata": {},
     "output_type": "execute_result"
    }
   ],
   "source": [
    "train_minority_group_X_y_combined_combined.shape"
   ]
  },
  {
   "cell_type": "code",
   "execution_count": 12,
   "metadata": {
    "collapsed": true
   },
   "outputs": [],
   "source": [
    "X_train = X_train.append(train_minority_group_X_y_combined_combined.drop(['status_group'], axis = 1))\n",
    "y_train = y_train.append(train_minority_group_X_y_combined_combined[['status_group']]) # [[]] to obtain df, not series"
   ]
  },
  {
   "cell_type": "code",
   "execution_count": null,
   "metadata": {
    "collapsed": true
   },
   "outputs": [],
   "source": []
  },
  {
   "cell_type": "code",
   "execution_count": null,
   "metadata": {
    "collapsed": true
   },
   "outputs": [],
   "source": []
  },
  {
   "cell_type": "code",
   "execution_count": null,
   "metadata": {
    "collapsed": true
   },
   "outputs": [],
   "source": []
  },
  {
   "cell_type": "code",
   "execution_count": null,
   "metadata": {
    "collapsed": true
   },
   "outputs": [],
   "source": []
  },
  {
   "cell_type": "markdown",
   "metadata": {},
   "source": [
    "https://dataplatform.ibm.com/analytics/notebooks/20c1c2d6-6a51-4bdc-9b2c-0e3f2bef7376/view?access_token=52b727bd6515bd687cfd88f929cc7869b0ea420e668b2730c6870e72e029f0d1\n",
    "\n",
    "https://www.analyticsvidhya.com/blog/2016/03/complete-guide-parameter-tuning-xgboost-with-codes-python/\n",
    "\n",
    "https://cambridgespark.com/content/tutorials/getting-started-with-xgboost/index.html\n",
    "\n",
    "https://zz001.wordpress.com/2017/05/13/basics-of-xgboost-in-python/\n",
    "\n",
    "http://danielhnyk.cz/how-to-use-xgboost-in-python/"
   ]
  },
  {
   "cell_type": "markdown",
   "metadata": {},
   "source": [
    "#### How to do with imbalanced data\n",
    "\n",
    "min_child_weight = 1 : A smaller value is chosen because it is a highly imbalanced class problem and leaf nodes can have smaller size groups.\n",
    "\n",
    "scale_pos_weight = 1: Because of high class imbalance."
   ]
  },
  {
   "cell_type": "code",
   "execution_count": null,
   "metadata": {
    "collapsed": true
   },
   "outputs": [],
   "source": [
    "# colsample_bytree, subsample, beta make sure, randint(1, 5) make sure"
   ]
  },
  {
   "cell_type": "code",
   "execution_count": 9,
   "metadata": {},
   "outputs": [
    {
     "name": "stdout",
     "output_type": "stream",
     "text": [
      "Time spent: 111.958804\n"
     ]
    }
   ],
   "source": [
    "#import time\n",
    "#start = time.time()\n",
    "\n",
    "#params = {\n",
    "#    \"n_estimators\": [6],\n",
    "#    \"learning_rate\": st.uniform(0.060001, 0.0600003)\n",
    "#}\n",
    "\n",
    "#model = XGBClassifier(n_jobs = -1) # nthread deprecated\n",
    "\n",
    "#gs = RandomizedSearchCV(model, params, n_jobs=1, n_iter=6)\n",
    "\n",
    "#gs.fit(X_train, y_train.iloc[:,0]) \n",
    "\n",
    "#elapsed = time.time() - start\n",
    "#print(\"Time spent: %f\" % (elapsed))"
   ]
  },
  {
   "cell_type": "code",
   "execution_count": 13,
   "metadata": {
    "scrolled": true
   },
   "outputs": [
    {
     "data": {
      "text/plain": [
       "RandomizedSearchCV(cv=None, error_score='raise',\n",
       "          estimator=XGBClassifier(base_score=0.5, booster='gbtree', colsample_bylevel=1,\n",
       "       colsample_bytree=1, gamma=0, learning_rate=0.1, max_delta_step=0,\n",
       "       max_depth=3, min_child_weight=1, missing=None, n_estimators=100,\n",
       "       n_jobs=-1, nthread=None, objective='binary:logistic',\n",
       "       random_state=0, reg_alpha=0, reg_lambda=1, scale_pos_weight=1,\n",
       "       seed=None, silent=True, subsample=1),\n",
       "          fit_params=None, iid=True, n_iter=10, n_jobs=-1,\n",
       "          param_distributions={'n_estimators': [10], 'max_depth': <scipy.stats._distn_infrastructure.rv_frozen object at 0x000002401A37CCC0>, 'learning_rate': <scipy.stats._distn_infrastructure.rv_frozen object at 0x000002401A37C9B0>, 'colsample_bytree': <scipy.stats._distn_infrastructure.rv_frozen object at ... object at 0x000002401A37C358>, 'min_child_weight': [1, 2, 1, 3], 'max_delta_step': [0, 1, 2, 3, 4]},\n",
       "          pre_dispatch='2*n_jobs', random_state=None, refit=True,\n",
       "          return_train_score=True, scoring=None, verbose=0)"
      ]
     },
     "execution_count": 13,
     "metadata": {},
     "output_type": "execute_result"
    }
   ],
   "source": [
    "# The difference between st.randint and st.uniform is just that the first one is an int and second is a float.\n",
    "\n",
    "one_to_left = st.beta(10, 1)  \n",
    "#from_zero_positive = st.expon(0, 50)\n",
    "\n",
    "params = {\n",
    "    \"n_estimators\": [10],\n",
    "    \"max_depth\": st.randint(20, 40),\n",
    "    \"learning_rate\": st.uniform(0.05, 0.4),\n",
    "    \"colsample_bytree\": one_to_left,\n",
    "    \"subsample\": one_to_left,\n",
    "    \"gamma\": st.uniform(0, 1.5),\n",
    "    \"min_child_weight\": [1,2,1,3],\n",
    "    #\"min_child_weight\": from_zero_positive\n",
    "    #\"max_delta_step\": st.randint(0, 5)\n",
    "    \"max_delta_step\": [0, 1, 2, 3, 4]\n",
    "}\n",
    "\n",
    "model = XGBClassifier(n_jobs = -1) # nthread deprecated\n",
    "\n",
    "gs = RandomizedSearchCV(model, params, n_jobs=-1, n_iter=10)\n",
    "\n",
    "gs.fit(X_train, y_train.iloc[:,0]) "
   ]
  },
  {
   "cell_type": "code",
   "execution_count": null,
   "metadata": {
    "collapsed": true
   },
   "outputs": [],
   "source": []
  },
  {
   "cell_type": "code",
   "execution_count": null,
   "metadata": {
    "collapsed": true
   },
   "outputs": [],
   "source": []
  },
  {
   "cell_type": "code",
   "execution_count": null,
   "metadata": {
    "collapsed": true
   },
   "outputs": [],
   "source": []
  },
  {
   "cell_type": "code",
   "execution_count": 18,
   "metadata": {},
   "outputs": [
    {
     "name": "stderr",
     "output_type": "stream",
     "text": [
      "C:\\Users\\Kevin\\Anaconda3\\lib\\site-packages\\sklearn\\model_selection\\_search.py:747: DeprecationWarning: The grid_scores_ attribute was deprecated in version 0.18 in favor of the more elaborate cv_results_ attribute. The grid_scores_ attribute will not be available from 0.20\n",
      "  DeprecationWarning)\n"
     ]
    },
    {
     "data": {
      "text/plain": [
       "[mean: 0.83538, std: 0.00186, params: {'colsample_bytree': 0.9009436880107301, 'gamma': 0.71804033917931687, 'learning_rate': 0.2479113707050104, 'max_delta_step': 2, 'max_depth': 22, 'min_child_weight': 2, 'n_estimators': 10, 'subsample': 0.97531792116312477},\n",
       " mean: 0.84094, std: 0.00226, params: {'colsample_bytree': 0.8599915807521018, 'gamma': 1.1016069196540648, 'learning_rate': 0.17825572431998477, 'max_delta_step': 2, 'max_depth': 37, 'min_child_weight': 1, 'n_estimators': 10, 'subsample': 0.93932809264900274},\n",
       " mean: 0.83799, std: 0.00186, params: {'colsample_bytree': 0.99552723961541778, 'gamma': 0.88922915773827138, 'learning_rate': 0.34999630823978634, 'max_delta_step': 3, 'max_depth': 22, 'min_child_weight': 1, 'n_estimators': 10, 'subsample': 0.85695138067075682},\n",
       " mean: 0.84127, std: 0.00163, params: {'colsample_bytree': 0.9777791233455051, 'gamma': 0.074265844561991923, 'learning_rate': 0.2073816053754956, 'max_delta_step': 0, 'max_depth': 33, 'min_child_weight': 1, 'n_estimators': 10, 'subsample': 0.66979218073204783},\n",
       " mean: 0.83533, std: 0.00168, params: {'colsample_bytree': 0.94830263904657952, 'gamma': 0.28933186894492779, 'learning_rate': 0.12284608971060758, 'max_delta_step': 4, 'max_depth': 35, 'min_child_weight': 2, 'n_estimators': 10, 'subsample': 0.98080539941549749},\n",
       " mean: 0.82485, std: 0.00032, params: {'colsample_bytree': 0.81108024745027674, 'gamma': 0.55741151125836752, 'learning_rate': 0.063426282674361512, 'max_delta_step': 0, 'max_depth': 23, 'min_child_weight': 2, 'n_estimators': 10, 'subsample': 0.86817361397295167},\n",
       " mean: 0.82898, std: 0.00051, params: {'colsample_bytree': 0.99343388515868236, 'gamma': 0.47598588347604193, 'learning_rate': 0.25983454072443279, 'max_delta_step': 3, 'max_depth': 23, 'min_child_weight': 3, 'n_estimators': 10, 'subsample': 0.88566260542671738},\n",
       " mean: 0.81702, std: 0.00277, params: {'colsample_bytree': 0.98067980684970446, 'gamma': 1.121194173403067, 'learning_rate': 0.098403117311184965, 'max_delta_step': 3, 'max_depth': 21, 'min_child_weight': 2, 'n_estimators': 10, 'subsample': 0.97618947781664844},\n",
       " mean: 0.80593, std: 0.00145, params: {'colsample_bytree': 0.98406663381583515, 'gamma': 0.95091571550572751, 'learning_rate': 0.083704913456153024, 'max_delta_step': 3, 'max_depth': 20, 'min_child_weight': 3, 'n_estimators': 10, 'subsample': 0.90902939986581299},\n",
       " mean: 0.80681, std: 0.00164, params: {'colsample_bytree': 0.9204718096255714, 'gamma': 0.15351992979280915, 'learning_rate': 0.08123007526160593, 'max_delta_step': 1, 'max_depth': 20, 'min_child_weight': 3, 'n_estimators': 10, 'subsample': 0.74909857545674585}]"
      ]
     },
     "execution_count": 18,
     "metadata": {},
     "output_type": "execute_result"
    }
   ],
   "source": [
    "# Considering max_delta_step, min_child_weight, and on 'functional needs repair' minority class oversampled data.\n",
    "# 'functional needs repair' + 'functional needs repair' x 2\n",
    "gs.grid_scores_"
   ]
  },
  {
   "cell_type": "code",
   "execution_count": 14,
   "metadata": {},
   "outputs": [
    {
     "data": {
      "text/plain": [
       "{'colsample_bytree': 0.9777791233455051,\n",
       " 'gamma': 0.074265844561991923,\n",
       " 'learning_rate': 0.2073816053754956,\n",
       " 'max_delta_step': 0,\n",
       " 'max_depth': 33,\n",
       " 'min_child_weight': 1,\n",
       " 'n_estimators': 10,\n",
       " 'subsample': 0.66979218073204783}"
      ]
     },
     "execution_count": 14,
     "metadata": {},
     "output_type": "execute_result"
    }
   ],
   "source": [
    "# Considering max_delta_step, min_child_weight, and on 'functional needs repair' minority class oversampled data.\n",
    "# 'functional needs repair' + 'functional needs repair' x 2\n",
    "gs.best_params_"
   ]
  },
  {
   "cell_type": "code",
   "execution_count": 17,
   "metadata": {},
   "outputs": [
    {
     "data": {
      "text/plain": [
       "0.84127285926642925"
      ]
     },
     "execution_count": 17,
     "metadata": {},
     "output_type": "execute_result"
    }
   ],
   "source": [
    "# Considering max_delta_step, min_child_weight, and on 'functional needs repair' minority class oversampled data.\n",
    "# 'functional needs repair' + 'functional needs repair' x 2\n",
    "gs.best_score_"
   ]
  },
  {
   "cell_type": "code",
   "execution_count": 15,
   "metadata": {
    "collapsed": true
   },
   "outputs": [],
   "source": [
    "best_model = XGBClassifier(\n",
    "    colsample_bytree = 0.9777791233455051,\n",
    "    gamma = 0.074265844561991923,\n",
    "    learning_rate = 0.2073816053754956,\n",
    "    max_depth = 33,\n",
    "    n_estimators = 50,\n",
    "    subsample = 0.66979218073204783,\n",
    "    max_delta_step = 0,\n",
    "    n_jobs = -1\n",
    ")"
   ]
  },
  {
   "cell_type": "code",
   "execution_count": 16,
   "metadata": {},
   "outputs": [
    {
     "data": {
      "text/plain": [
       "0.80437710437710441"
      ]
     },
     "execution_count": 16,
     "metadata": {},
     "output_type": "execute_result"
    }
   ],
   "source": [
    "# Considering max_delta_step, min_child_weight, and on 'functional needs repair' minority class oversampled data.\n",
    "# 'functional needs repair' + 'functional needs repair' x 2\n",
    "best_model.fit(X_train, y_train.iloc[:,0])\n",
    "prediction = best_model.predict(X_test)\n",
    "metrics.accuracy_score(y_test.iloc[:,0], prediction)"
   ]
  },
  {
   "cell_type": "code",
   "execution_count": null,
   "metadata": {
    "collapsed": true
   },
   "outputs": [],
   "source": []
  },
  {
   "cell_type": "code",
   "execution_count": null,
   "metadata": {
    "collapsed": true
   },
   "outputs": [],
   "source": []
  },
  {
   "cell_type": "code",
   "execution_count": null,
   "metadata": {
    "collapsed": true
   },
   "outputs": [],
   "source": []
  },
  {
   "cell_type": "code",
   "execution_count": 59,
   "metadata": {
    "scrolled": true
   },
   "outputs": [
    {
     "name": "stderr",
     "output_type": "stream",
     "text": [
      "C:\\Users\\Kevin\\Anaconda3\\lib\\site-packages\\sklearn\\model_selection\\_search.py:747: DeprecationWarning: The grid_scores_ attribute was deprecated in version 0.18 in favor of the more elaborate cv_results_ attribute. The grid_scores_ attribute will not be available from 0.20\n",
      "  DeprecationWarning)\n"
     ]
    },
    {
     "data": {
      "text/plain": [
       "[mean: 0.80811, std: 0.00040, params: {'colsample_bytree': 0.75415927676939598, 'gamma': 0.97558746919254702, 'learning_rate': 0.25543096743042065, 'max_delta_step': 2, 'max_depth': 38, 'min_child_weight': 3, 'n_estimators': 10, 'subsample': 0.89089786032326523},\n",
       " mean: 0.79956, std: 0.00128, params: {'colsample_bytree': 0.83823111133544925, 'gamma': 1.265054736902316, 'learning_rate': 0.20022924150733151, 'max_delta_step': 4, 'max_depth': 22, 'min_child_weight': 2, 'n_estimators': 10, 'subsample': 0.80469545170885159},\n",
       " mean: 0.80783, std: 0.00094, params: {'colsample_bytree': 0.97228647112171529, 'gamma': 0.66924881465667818, 'learning_rate': 0.11824672562312713, 'max_delta_step': 1, 'max_depth': 29, 'min_child_weight': 1, 'n_estimators': 10, 'subsample': 0.71700264274748604},\n",
       " mean: 0.80983, std: 0.00179, params: {'colsample_bytree': 0.99557805822677814, 'gamma': 1.1419156824457029, 'learning_rate': 0.21500152566118941, 'max_delta_step': 0, 'max_depth': 23, 'min_child_weight': 1, 'n_estimators': 10, 'subsample': 0.91976051994286401},\n",
       " mean: 0.81740, std: 0.00185, params: {'colsample_bytree': 0.96180841858541399, 'gamma': 0.33485678835102756, 'learning_rate': 0.40784619785911141, 'max_delta_step': 2, 'max_depth': 36, 'min_child_weight': 3, 'n_estimators': 10, 'subsample': 0.84215875195821499},\n",
       " mean: 0.80844, std: 0.00070, params: {'colsample_bytree': 0.99040794546339095, 'gamma': 1.0664220269886959, 'learning_rate': 0.087751448433128196, 'max_delta_step': 0, 'max_depth': 35, 'min_child_weight': 1, 'n_estimators': 10, 'subsample': 0.93354475414062354},\n",
       " mean: 0.83379, std: 0.00144, params: {'colsample_bytree': 0.77920464597883443, 'gamma': 0.021470949918792226, 'learning_rate': 0.43780578359103017, 'max_delta_step': 1, 'max_depth': 31, 'min_child_weight': 1, 'n_estimators': 10, 'subsample': 0.77078400785297152},\n",
       " mean: 0.79896, std: 0.00101, params: {'colsample_bytree': 0.99221097949078452, 'gamma': 1.3282949568863267, 'learning_rate': 0.14844251489515031, 'max_delta_step': 4, 'max_depth': 36, 'min_child_weight': 3, 'n_estimators': 10, 'subsample': 0.99961121303640055},\n",
       " mean: 0.82445, std: 0.00122, params: {'colsample_bytree': 0.93847697278361242, 'gamma': 0.55984812389293159, 'learning_rate': 0.20199588303851768, 'max_delta_step': 0, 'max_depth': 36, 'min_child_weight': 1, 'n_estimators': 10, 'subsample': 0.99352103285629911},\n",
       " mean: 0.81188, std: 0.00118, params: {'colsample_bytree': 0.91547343830891137, 'gamma': 1.373587745553845, 'learning_rate': 0.23143611743542558, 'max_delta_step': 2, 'max_depth': 30, 'min_child_weight': 1, 'n_estimators': 10, 'subsample': 0.98474066719860864}]"
      ]
     },
     "execution_count": 59,
     "metadata": {},
     "output_type": "execute_result"
    }
   ],
   "source": [
    "# Considering max_delta_step, min_child_weight, and on 'functional needs repair' minority class oversampled data.\n",
    "# 'functional needs repair' + 'functional needs repair' x 1\n",
    "gs.grid_scores_"
   ]
  },
  {
   "cell_type": "code",
   "execution_count": 60,
   "metadata": {},
   "outputs": [
    {
     "data": {
      "text/plain": [
       "{'colsample_bytree': 0.77920464597883443,\n",
       " 'gamma': 0.021470949918792226,\n",
       " 'learning_rate': 0.43780578359103017,\n",
       " 'max_delta_step': 1,\n",
       " 'max_depth': 31,\n",
       " 'min_child_weight': 1,\n",
       " 'n_estimators': 10,\n",
       " 'subsample': 0.77078400785297152}"
      ]
     },
     "execution_count": 60,
     "metadata": {},
     "output_type": "execute_result"
    }
   ],
   "source": [
    "# Considering max_delta_step, min_child_weight, and on 'functional needs repair' minority class oversampled data.\n",
    "# 'functional needs repair' + 'functional needs repair' x 1\n",
    "gs.best_params_"
   ]
  },
  {
   "cell_type": "code",
   "execution_count": 61,
   "metadata": {},
   "outputs": [
    {
     "data": {
      "text/plain": [
       "0.8337886731152625"
      ]
     },
     "execution_count": 61,
     "metadata": {},
     "output_type": "execute_result"
    }
   ],
   "source": [
    "# Considering max_delta_step, min_child_weight, and on 'functional needs repair' minority class oversampled data.\n",
    "# 'functional needs repair' + 'functional needs repair' x 1\n",
    "gs.best_score_"
   ]
  },
  {
   "cell_type": "code",
   "execution_count": 13,
   "metadata": {
    "collapsed": true
   },
   "outputs": [],
   "source": [
    "best_model = XGBClassifier(\n",
    "    colsample_bytree = 0.77920464597883443,\n",
    "    gamma = 0.021470949918792226,\n",
    "    learning_rate = 0.43780578359103017,\n",
    "    max_depth = 31,\n",
    "    n_estimators = 50,\n",
    "    subsample = 0.77078400785297152,\n",
    "    max_delta_step = 1,\n",
    "    n_jobs = -1\n",
    ")"
   ]
  },
  {
   "cell_type": "code",
   "execution_count": 14,
   "metadata": {},
   "outputs": [
    {
     "data": {
      "text/plain": [
       "XGBClassifier(base_score=0.5, booster='gbtree', colsample_bylevel=1,\n",
       "       colsample_bytree=0.7792046459788344, gamma=0.021470949918792226,\n",
       "       learning_rate=0.4378057835910302, max_delta_step=1, max_depth=31,\n",
       "       min_child_weight=1, missing=None, n_estimators=50, n_jobs=-1,\n",
       "       nthread=None, objective='multi:softprob', random_state=0,\n",
       "       reg_alpha=0, reg_lambda=1, scale_pos_weight=1, seed=None,\n",
       "       silent=True, subsample=0.7707840078529715)"
      ]
     },
     "execution_count": 14,
     "metadata": {},
     "output_type": "execute_result"
    }
   ],
   "source": [
    "# Considering max_delta_step, min_child_weight, and on 'functional needs repair' minority class oversampled data.\n",
    "# 'functional needs repair' + 'functional needs repair' x 1\n",
    "best_model.fit(X_train, y_train.iloc[:,0])"
   ]
  },
  {
   "cell_type": "code",
   "execution_count": 15,
   "metadata": {},
   "outputs": [
    {
     "data": {
      "text/plain": [
       "0.80280583613916945"
      ]
     },
     "execution_count": 15,
     "metadata": {},
     "output_type": "execute_result"
    }
   ],
   "source": [
    "# Considering max_delta_step, min_child_weight, and on 'functional needs repair' minority class oversampled data.\n",
    "# 'functional needs repair' + 'functional needs repair' x 1\n",
    "prediction = best_model.predict(X_test)\n",
    "metrics.accuracy_score(y_test.iloc[:,0], prediction)"
   ]
  },
  {
   "cell_type": "code",
   "execution_count": null,
   "metadata": {
    "collapsed": true
   },
   "outputs": [],
   "source": []
  },
  {
   "cell_type": "code",
   "execution_count": null,
   "metadata": {
    "collapsed": true
   },
   "outputs": [],
   "source": []
  },
  {
   "cell_type": "code",
   "execution_count": null,
   "metadata": {
    "collapsed": true
   },
   "outputs": [],
   "source": []
  },
  {
   "cell_type": "code",
   "execution_count": null,
   "metadata": {
    "collapsed": true
   },
   "outputs": [],
   "source": []
  },
  {
   "cell_type": "code",
   "execution_count": 17,
   "metadata": {},
   "outputs": [
    {
     "data": {
      "text/plain": [
       "{'colsample_bytree': 0.7885411854876847,\n",
       " 'gamma': 2.5361888100383698,\n",
       " 'learning_rate': 0.14907069853455168,\n",
       " 'max_delta_step': 0,\n",
       " 'max_depth': 32,\n",
       " 'min_child_weight': 3,\n",
       " 'n_estimators': 10,\n",
       " 'subsample': 0.89374210552752831}"
      ]
     },
     "execution_count": 17,
     "metadata": {},
     "output_type": "execute_result"
    }
   ],
   "source": [
    "# Considering max_delta_step, min_child_weight, and on 'functional needs repair' minority class oversampled data.\n",
    "# 'functional needs repair' + 'functional needs repair' x 3\n",
    "gs.best_params_"
   ]
  },
  {
   "cell_type": "code",
   "execution_count": 18,
   "metadata": {},
   "outputs": [
    {
     "data": {
      "text/plain": [
       "0.81544136765470621"
      ]
     },
     "execution_count": 18,
     "metadata": {},
     "output_type": "execute_result"
    }
   ],
   "source": [
    "# Considering max_delta_step, min_child_weight, and on 'functional needs repair' minority class oversampled data.\n",
    "# 'functional needs repair' + 'functional needs repair' x 3\n",
    "gs.best_score_"
   ]
  },
  {
   "cell_type": "code",
   "execution_count": 21,
   "metadata": {},
   "outputs": [
    {
     "data": {
      "text/plain": [
       "XGBClassifier(base_score=0.5, booster='gbtree', colsample_bylevel=1,\n",
       "       colsample_bytree=0.7885411854876847, gamma=2.53618881003837,\n",
       "       learning_rate=0.14907069853455168, max_delta_step=0, max_depth=32,\n",
       "       min_child_weight=3, missing=None, n_estimators=50, n_jobs=1,\n",
       "       nthread=None, objective='multi:softprob', random_state=0,\n",
       "       reg_alpha=0, reg_lambda=1, scale_pos_weight=1, seed=None,\n",
       "       silent=True, subsample=0.8937421055275283)"
      ]
     },
     "execution_count": 21,
     "metadata": {},
     "output_type": "execute_result"
    }
   ],
   "source": [
    "# Considering max_delta_step, min_child_weight, and on 'functional needs repair' minority class oversampled data.\n",
    "# 'functional needs repair' + 'functional needs repair' x 3\n",
    "best_model.fit(X_train, y_train.iloc[:,0])"
   ]
  },
  {
   "cell_type": "code",
   "execution_count": 22,
   "metadata": {},
   "outputs": [
    {
     "data": {
      "text/plain": [
       "0.7976430976430976"
      ]
     },
     "execution_count": 22,
     "metadata": {},
     "output_type": "execute_result"
    }
   ],
   "source": [
    "# Considering max_delta_step, min_child_weight, and on 'functional needs repair' minority class oversampled data.\n",
    "# 'functional needs repair' + 'functional needs repair' x 3\n",
    "prediction = best_model.predict(X_test)\n",
    "metrics.accuracy_score(y_test.iloc[:,0], prediction)"
   ]
  },
  {
   "cell_type": "code",
   "execution_count": null,
   "metadata": {
    "collapsed": true
   },
   "outputs": [],
   "source": []
  },
  {
   "cell_type": "code",
   "execution_count": null,
   "metadata": {
    "collapsed": true
   },
   "outputs": [],
   "source": []
  },
  {
   "cell_type": "code",
   "execution_count": 16,
   "metadata": {},
   "outputs": [
    {
     "data": {
      "text/plain": [
       "{'colsample_bytree': 0.61191580388279143,\n",
       " 'gamma': 1.4471141227193951,\n",
       " 'learning_rate': 0.20586570183770209,\n",
       " 'max_delta_step': 3,\n",
       " 'max_depth': 27,\n",
       " 'min_child_weight': 1,\n",
       " 'n_estimators': 10,\n",
       " 'subsample': 0.86484481943790181}"
      ]
     },
     "execution_count": 16,
     "metadata": {},
     "output_type": "execute_result"
    }
   ],
   "source": [
    "# Considering max_delta_step and min_child_weight (min_child_weight would still be the default)\n",
    "gs.best_params_"
   ]
  },
  {
   "cell_type": "code",
   "execution_count": 17,
   "metadata": {},
   "outputs": [
    {
     "data": {
      "text/plain": [
       "0.80259457318280847"
      ]
     },
     "execution_count": 17,
     "metadata": {},
     "output_type": "execute_result"
    }
   ],
   "source": [
    "# Considering max_delta_step and min_child_weight \n",
    "gs.best_score_"
   ]
  },
  {
   "cell_type": "code",
   "execution_count": 19,
   "metadata": {},
   "outputs": [
    {
     "data": {
      "text/plain": [
       "XGBClassifier(base_score=0.5, booster='gbtree', colsample_bylevel=1,\n",
       "       colsample_bytree=0.6119158038827914, gamma=1.447114122719395,\n",
       "       learning_rate=0.2058657018377021, max_delta_step=3, max_depth=27,\n",
       "       min_child_weight=1, missing=None, n_estimators=50, n_jobs=1,\n",
       "       nthread=None, objective='multi:softprob', random_state=0,\n",
       "       reg_alpha=0, reg_lambda=1, scale_pos_weight=1, seed=None,\n",
       "       silent=True, subsample=0.8648448194379018)"
      ]
     },
     "execution_count": 19,
     "metadata": {},
     "output_type": "execute_result"
    }
   ],
   "source": [
    "# Considering max_delta_step and min_child_weight \n",
    "best_model.fit(X_train, y_train.iloc[:,0])"
   ]
  },
  {
   "cell_type": "code",
   "execution_count": 20,
   "metadata": {},
   "outputs": [
    {
     "data": {
      "text/plain": [
       "0.81459034792368124"
      ]
     },
     "execution_count": 20,
     "metadata": {},
     "output_type": "execute_result"
    }
   ],
   "source": [
    "# Considering max_delta_step and min_child_weight \n",
    "prediction = best_model.predict(X_test)\n",
    "metrics.accuracy_score(y_test.iloc[:,0], prediction)"
   ]
  },
  {
   "cell_type": "code",
   "execution_count": null,
   "metadata": {
    "collapsed": true
   },
   "outputs": [],
   "source": []
  },
  {
   "cell_type": "code",
   "execution_count": null,
   "metadata": {
    "collapsed": true
   },
   "outputs": [],
   "source": []
  },
  {
   "cell_type": "code",
   "execution_count": 118,
   "metadata": {},
   "outputs": [
    {
     "data": {
      "text/plain": [
       "{'colsample_bytree': 0.5088073970953898,\n",
       " 'gamma': 2.3440737331595054,\n",
       " 'learning_rate': 0.15135478088899137,\n",
       " 'max_delta_step': 2,\n",
       " 'max_depth': 31,\n",
       " 'n_estimators': 10,\n",
       " 'subsample': 0.96337604446426006}"
      ]
     },
     "execution_count": 118,
     "metadata": {},
     "output_type": "execute_result"
    }
   ],
   "source": [
    "# Considering max_delta_step\n",
    "gs.best_params_"
   ]
  },
  {
   "cell_type": "code",
   "execution_count": 119,
   "metadata": {},
   "outputs": [
    {
     "data": {
      "text/plain": [
       "0.80326797385620918"
      ]
     },
     "execution_count": 119,
     "metadata": {},
     "output_type": "execute_result"
    }
   ],
   "source": [
    "# Best score, considering max_delta_step\n",
    "gs.best_score_"
   ]
  },
  {
   "cell_type": "code",
   "execution_count": null,
   "metadata": {
    "collapsed": true
   },
   "outputs": [],
   "source": []
  },
  {
   "cell_type": "code",
   "execution_count": 77,
   "metadata": {},
   "outputs": [
    {
     "data": {
      "text/plain": [
       "{'colsample_bytree': 0.90974442109854226,\n",
       " 'gamma': 0.26863994012680026,\n",
       " 'learning_rate': 0.35447682135869291,\n",
       " 'max_depth': 30,\n",
       " 'n_estimators': 10,\n",
       " 'subsample': 0.82855724159824162}"
      ]
     },
     "execution_count": 77,
     "metadata": {},
     "output_type": "execute_result"
    }
   ],
   "source": [
    "# Without considering max_delta_step\n",
    "gs.best_params_"
   ]
  },
  {
   "cell_type": "code",
   "execution_count": 78,
   "metadata": {},
   "outputs": [
    {
     "data": {
      "text/plain": [
       "0.7987918399683106"
      ]
     },
     "execution_count": 78,
     "metadata": {},
     "output_type": "execute_result"
    }
   ],
   "source": [
    "# Best score, without considering max_delta_step\n",
    "gs.best_score_"
   ]
  },
  {
   "cell_type": "code",
   "execution_count": null,
   "metadata": {
    "collapsed": true
   },
   "outputs": [],
   "source": []
  },
  {
   "cell_type": "code",
   "execution_count": 120,
   "metadata": {
    "collapsed": true
   },
   "outputs": [],
   "source": [
    "best_model = XGBClassifier(\n",
    "    colsample_bytree = 0.5088073970953898,\n",
    "    gamma = 2.3440737331595054,\n",
    "    learning_rate = 0.15135478088899137,\n",
    "    max_depth = 31,\n",
    "    n_estimators = 50,\n",
    "    subsample = 0.96337604446426006,\n",
    "    max_delta_step = 2\n",
    ")"
   ]
  },
  {
   "cell_type": "code",
   "execution_count": 121,
   "metadata": {},
   "outputs": [
    {
     "data": {
      "text/plain": [
       "XGBClassifier(base_score=0.5, booster='gbtree', colsample_bylevel=1,\n",
       "       colsample_bytree=0.5088073970953898, gamma=2.3440737331595054,\n",
       "       learning_rate=0.15135478088899137, max_delta_step=2, max_depth=31,\n",
       "       min_child_weight=1, missing=None, n_estimators=50, n_jobs=1,\n",
       "       nthread=None, objective='multi:softprob', random_state=0,\n",
       "       reg_alpha=0, reg_lambda=1, scale_pos_weight=1, seed=None,\n",
       "       silent=True, subsample=0.9633760444642601)"
      ]
     },
     "execution_count": 121,
     "metadata": {},
     "output_type": "execute_result"
    }
   ],
   "source": [
    "best_model.fit(X_train, y_train.iloc[:,0])"
   ]
  },
  {
   "cell_type": "code",
   "execution_count": 122,
   "metadata": {
    "collapsed": true
   },
   "outputs": [],
   "source": [
    "prediction = best_model.predict(X_test)"
   ]
  },
  {
   "cell_type": "code",
   "execution_count": 104,
   "metadata": {
    "collapsed": true
   },
   "outputs": [],
   "source": [
    "#pred_prob = best_model.predict_proba(X_test)"
   ]
  },
  {
   "cell_type": "code",
   "execution_count": 123,
   "metadata": {},
   "outputs": [
    {
     "data": {
      "text/plain": [
       "0.81447811447811447"
      ]
     },
     "execution_count": 123,
     "metadata": {},
     "output_type": "execute_result"
    }
   ],
   "source": [
    "# Accuracy after considering max_delta_step\n",
    "metrics.accuracy_score(y_test.iloc[:,0], prediction)"
   ]
  },
  {
   "cell_type": "code",
   "execution_count": 124,
   "metadata": {},
   "outputs": [
    {
     "data": {
      "text/plain": [
       "<matplotlib.text.Text at 0x1bda1d71eb8>"
      ]
     },
     "execution_count": 124,
     "metadata": {},
     "output_type": "execute_result"
    },
    {
     "data": {
      "image/png": "[encoded data removed]",
      "text/plain": [
       "<matplotlib.figure.Figure at 0x1bda1ba3b70>"
      ]
     },
     "metadata": {},
     "output_type": "display_data"
    }
   ],
   "source": [
    "import matplotlib.pylab as plt\n",
    "%matplotlib inline\n",
    "from matplotlib.pylab import rcParams\n",
    "rcParams['figure.figsize'] = 12, 4\n",
    "\n",
    "feat_imp = pd.Series(best_model._Booster.get_fscore()).sort_values(ascending=False)\n",
    "feat_imp.plot(kind='bar', title='Feature Importances')\n",
    "plt.ylabel('Feature Importance Score')"
   ]
  },
  {
   "cell_type": "code",
   "execution_count": 125,
   "metadata": {
    "scrolled": true
   },
   "outputs": [
    {
     "data": {
      "text/plain": [
       "longitude      7213\n",
       "latitude       7056\n",
       "gps_height     4283\n",
       "created_day    3083\n",
       "population     2215\n",
       "dtype: int64"
      ]
     },
     "execution_count": 125,
     "metadata": {},
     "output_type": "execute_result"
    }
   ],
   "source": [
    "feat_imp.head(5)"
   ]
  },
  {
   "cell_type": "code",
   "execution_count": null,
   "metadata": {
    "collapsed": true
   },
   "outputs": [],
   "source": []
  },
  {
   "cell_type": "code",
   "execution_count": null,
   "metadata": {
    "collapsed": true
   },
   "outputs": [],
   "source": []
  },
  {
   "cell_type": "code",
   "execution_count": null,
   "metadata": {
    "collapsed": true
   },
   "outputs": [],
   "source": []
  },
  {
   "cell_type": "code",
   "execution_count": null,
   "metadata": {
    "collapsed": true
   },
   "outputs": [],
   "source": []
  },
  {
   "cell_type": "code",
   "execution_count": null,
   "metadata": {
    "collapsed": true
   },
   "outputs": [],
   "source": []
  },
  {
   "cell_type": "code",
   "execution_count": null,
   "metadata": {
    "collapsed": true
   },
   "outputs": [],
   "source": []
  },
  {
   "cell_type": "code",
   "execution_count": 100,
   "metadata": {
    "collapsed": true
   },
   "outputs": [],
   "source": [
    "pipeline_gs = Pipeline([('scaler', StandardScaler()), ('classifier', XGBClassifier())])\n",
    "parameters = {'classifier__learning_rate': [0.01, 0.03, 0.05], 'classifier__n_estimators': [10, 50, 250]}\n",
    "clf = GridSearchCV(pipeline_gs, parameters)\n",
    "clf.fit(X_train.values, y_train.values)\n",
    "clf.grid_scores_"
   ]
  },
  {
   "cell_type": "code",
   "execution_count": null,
   "metadata": {
    "collapsed": true
   },
   "outputs": [],
   "source": [
    "# An iterating process, with a seperate function to decide necessary number of estimators \n",
    "param_test1 = {\n",
    " 'max_depth':range(3,10,2),\n",
    " 'min_child_weight':range(1,6,2)\n",
    "}\n",
    "gsearch1 = GridSearchCV(estimator = XGBClassifier( learning_rate =0.1, n_estimators=140, max_depth=5,\n",
    " min_child_weight=1, gamma=0, subsample=0.8, colsample_bytree=0.8,\n",
    " objective= 'binary:logistic', nthread=4, scale_pos_weight=1, seed=27), \n",
    " param_grid = param_test1, scoring='roc_auc',n_jobs=4,iid=False, cv=5)\n",
    "gsearch1.fit(train[predictors],train[target])\n",
    "gsearch1.grid_scores_, gsearch1.best_params_, gsearch1.best_score_"
   ]
  },
  {
   "cell_type": "code",
   "execution_count": null,
   "metadata": {
    "collapsed": true
   },
   "outputs": [],
   "source": [
    "import xgboost as xgb\n",
    "classifier = xgb.sklearn.XGBClassifier(nthread=-1, seed=42)\n",
    "classifier.fit(X_train, y_train)"
   ]
  },
  {
   "cell_type": "code",
   "execution_count": null,
   "metadata": {
    "collapsed": true
   },
   "outputs": [],
   "source": [
    "from xgboost import XGBRegressor\n",
    "\n",
    "params = {\n",
    "'max_depth': 5,\n",
    "'n_estimators': 50,\n",
    "'objective': 'reg:linear'}\n",
    " \n",
    "model = XGBRegressor(**params)\n",
    "model.fit(X, y)\n",
    "\n",
    "pred = model.predict(x_test)\n",
    "\n",
    "from sklearn.model_selection import RandomizedSearchCV\n",
    " \n",
    "search_params = {\n",
    "'max_depth': list(range(2, 11, 1)),\n",
    "'n_estimators': list(range(10, 60, 10))\n",
    "}\n",
    " \n",
    "search = RandomizedSearchCV(model, search_params, n_iter=20)\n",
    "search.fit(X, y)"
   ]
  },
  {
   "cell_type": "code",
   "execution_count": null,
   "metadata": {
    "collapsed": true
   },
   "outputs": [],
   "source": [
    "from xgboost.sklearn import XGBClassifier  \n",
    "xclas = XGBClassifier()  # and for classifier  \n",
    "xclas.fit(X_train, y_train)  \n",
    "xclas.predict(X_test)  \n",
    "cross_val_score(xclas, X_train, y_train)  \n",
    "\n",
    "import scipy.stats as st\n",
    "\n",
    "one_to_left = st.beta(10, 1)  \n",
    "from_zero_positive = st.expon(0, 50)\n",
    "\n",
    "params = {  \n",
    "    \"n_estimators\": st.randint(3, 40),\n",
    "    \"max_depth\": st.randint(3, 40),\n",
    "    \"learning_rate\": st.uniform(0.05, 0.4),\n",
    "    \"colsample_bytree\": one_to_left,\n",
    "    \"subsample\": one_to_left,\n",
    "    \"gamma\": st.uniform(0, 10),\n",
    "    'reg_alpha': from_zero_positive,\n",
    "    \"min_child_weight\": from_zero_positive,\n",
    "}\n",
    "\n",
    "xgbreg = XGBRegressor(nthreads=-1)  \n",
    "\n",
    "from sklearn.model_selection import RandomizedSearchCV\n",
    "\n",
    "gs = RandomizedSearchCV(xgbreg, params, n_jobs=1)  \n",
    "gs.fit(X_train, y_train)  \n",
    "gs.best_model_  "
   ]
  },
  {
   "cell_type": "code",
   "execution_count": null,
   "metadata": {
    "collapsed": true
   },
   "outputs": [],
   "source": []
  },
  {
   "cell_type": "code",
   "execution_count": null,
   "metadata": {
    "collapsed": true
   },
   "outputs": [],
   "source": []
  },
  {
   "cell_type": "code",
   "execution_count": null,
   "metadata": {
    "collapsed": true
   },
   "outputs": [],
   "source": []
  },
  {
   "cell_type": "code",
   "execution_count": null,
   "metadata": {
    "collapsed": true
   },
   "outputs": [],
   "source": []
  },
  {
   "cell_type": "code",
   "execution_count": null,
   "metadata": {
    "collapsed": true
   },
   "outputs": [],
   "source": []
  },
  {
   "cell_type": "markdown",
   "metadata": {},
   "source": [
    "Done: Differencing between record year(date) and construction year\n",
    "\n",
    "Done: \"payment\" and \"payment_type\" are the same -- no need to do\n",
    "\n",
    "Done: After dummify, transpose, drop_duplicates on categorical range, and transpose back.\n",
    "\n",
    "Trim space\n",
    "\n",
    "Move month to draw a line right before the rain season\n",
    "\n",
    "Done: Set missing numeric values to zero?\n",
    "\n",
    "Done: Remove any col filled with homogeneous or nearly homogeneous data.GeoData Consultants Ltd was the sole group in recorded_by and hence removed.\n",
    "\n",
    "get_dummies(df_clean, drop_first = True)?\n",
    "\n",
    "Set weird values in numerical columns to NaN.\n",
    "\n",
    "We set nthread to -1 to tell xgboost to use as many threads as available to build trees in parallel.\n",
    "classifier = xgb.sklearn.XGBClassifier(nthread=-1, seed=42)"
   ]
  },
  {
   "cell_type": "code",
   "execution_count": null,
   "metadata": {
    "collapsed": true
   },
   "outputs": [],
   "source": []
  }
 ],
 "metadata": {
  "kernelspec": {
   "display_name": "Python 3",
   "language": "python",
   "name": "python3"
  },
  "language_info": {
   "codemirror_mode": {
    "name": "ipython",
    "version": 3
   },
   "file_extension": ".py",
   "mimetype": "text/x-python",
   "name": "python",
   "nbconvert_exporter": "python",
   "pygments_lexer": "ipython3",
   "version": "3.6.2"
  }
 },
 "nbformat": 4,
 "nbformat_minor": 2
}
